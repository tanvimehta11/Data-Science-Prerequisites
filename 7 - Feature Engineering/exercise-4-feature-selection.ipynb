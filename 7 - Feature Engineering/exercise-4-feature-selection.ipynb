{
 "cells": [
  {
   "cell_type": "markdown",
   "metadata": {
    "papermill": {
     "duration": 0.022614,
     "end_time": "2020-11-27T21:20:24.859608",
     "exception": false,
     "start_time": "2020-11-27T21:20:24.836994",
     "status": "completed"
    },
    "tags": []
   },
   "source": [
    "**This notebook is an exercise in the [Feature Engineering](https://www.kaggle.com/learn/feature-engineering) course.  You can reference the tutorial at [this link](https://www.kaggle.com/matleonard/feature-selection).**\n",
    "\n",
    "---\n"
   ]
  },
  {
   "cell_type": "markdown",
   "metadata": {
    "papermill": {
     "duration": 0.018627,
     "end_time": "2020-11-27T21:20:24.897229",
     "exception": false,
     "start_time": "2020-11-27T21:20:24.878602",
     "status": "completed"
    },
    "tags": []
   },
   "source": [
    "# Introduction\n",
    "\n",
    "In this exercise you'll use some feature selection algorithms to improve your model. Some methods take a while to run, so you'll write functions and verify they work on small samples.\n",
    "\n",
    "To begin, run the code cell below to set up the exercise."
   ]
  },
  {
   "cell_type": "code",
   "execution_count": 1,
   "metadata": {
    "execution": {
     "iopub.execute_input": "2020-11-27T21:20:24.941088Z",
     "iopub.status.busy": "2020-11-27T21:20:24.940288Z",
     "iopub.status.idle": "2020-11-27T21:20:26.330046Z",
     "shell.execute_reply": "2020-11-27T21:20:26.329278Z"
    },
    "papermill": {
     "duration": 1.414623,
     "end_time": "2020-11-27T21:20:26.330188",
     "exception": false,
     "start_time": "2020-11-27T21:20:24.915565",
     "status": "completed"
    },
    "tags": []
   },
   "outputs": [],
   "source": [
    "# Set up code checking\n",
    "from learntools.core import binder\n",
    "binder.bind(globals())\n",
    "from learntools.feature_engineering.ex4 import *"
   ]
  },
  {
   "cell_type": "markdown",
   "metadata": {
    "papermill": {
     "duration": 0.019228,
     "end_time": "2020-11-27T21:20:26.369067",
     "exception": false,
     "start_time": "2020-11-27T21:20:26.349839",
     "status": "completed"
    },
    "tags": []
   },
   "source": [
    "Then run the following cell. It takes a minute or so to run."
   ]
  },
  {
   "cell_type": "code",
   "execution_count": 2,
   "metadata": {
    "execution": {
     "iopub.execute_input": "2020-11-27T21:20:26.431034Z",
     "iopub.status.busy": "2020-11-27T21:20:26.428909Z",
     "iopub.status.idle": "2020-11-27T21:20:33.776025Z",
     "shell.execute_reply": "2020-11-27T21:20:33.775202Z"
    },
    "papermill": {
     "duration": 7.387966,
     "end_time": "2020-11-27T21:20:33.776159",
     "exception": false,
     "start_time": "2020-11-27T21:20:26.388193",
     "status": "completed"
    },
    "tags": []
   },
   "outputs": [],
   "source": [
    "import numpy as np\n",
    "import pandas as pd\n",
    "from sklearn import preprocessing, metrics\n",
    "import lightgbm as lgb\n",
    "\n",
    "import os\n",
    "\n",
    "clicks = pd.read_parquet('../input/feature-engineering-data/baseline_data.pqt')\n",
    "data_files = ['count_encodings.pqt',\n",
    "              'catboost_encodings.pqt',\n",
    "              'interactions.pqt',\n",
    "              'past_6hr_events.pqt',\n",
    "              'downloads.pqt',\n",
    "              'time_deltas.pqt',\n",
    "              'svd_encodings.pqt']\n",
    "data_root = '../input/feature-engineering-data'\n",
    "for file in data_files:\n",
    "    features = pd.read_parquet(os.path.join(data_root, file))\n",
    "    clicks = clicks.join(features)\n",
    "\n",
    "def get_data_splits(dataframe, valid_fraction=0.1):\n",
    "\n",
    "    dataframe = dataframe.sort_values('click_time')\n",
    "    valid_rows = int(len(dataframe) * valid_fraction)\n",
    "    train = dataframe[:-valid_rows * 2]\n",
    "    # valid size == test size, last two sections of the data\n",
    "    valid = dataframe[-valid_rows * 2:-valid_rows]\n",
    "    test = dataframe[-valid_rows:]\n",
    "    \n",
    "    return train, valid, test\n",
    "\n",
    "def train_model(train, valid, test=None, feature_cols=None):\n",
    "    if feature_cols is None:\n",
    "        feature_cols = train.columns.drop(['click_time', 'attributed_time',\n",
    "                                           'is_attributed'])\n",
    "    dtrain = lgb.Dataset(train[feature_cols], label=train['is_attributed'])\n",
    "    dvalid = lgb.Dataset(valid[feature_cols], label=valid['is_attributed'])\n",
    "    \n",
    "    param = {'num_leaves': 64, 'objective': 'binary', \n",
    "             'metric': 'auc', 'seed': 7}\n",
    "    num_round = 1000\n",
    "    print(\"Training model!\")\n",
    "    bst = lgb.train(param, dtrain, num_round, valid_sets=[dvalid], \n",
    "                    early_stopping_rounds=20, verbose_eval=False)\n",
    "    \n",
    "    valid_pred = bst.predict(valid[feature_cols])\n",
    "    valid_score = metrics.roc_auc_score(valid['is_attributed'], valid_pred)\n",
    "    print(f\"Validation AUC score: {valid_score}\")\n",
    "    \n",
    "    if test is not None: \n",
    "        test_pred = bst.predict(test[feature_cols])\n",
    "        test_score = metrics.roc_auc_score(test['is_attributed'], test_pred)\n",
    "        return bst, valid_score, test_score\n",
    "    else:\n",
    "        return bst, valid_score"
   ]
  },
  {
   "cell_type": "markdown",
   "metadata": {
    "papermill": {
     "duration": 0.020322,
     "end_time": "2020-11-27T21:20:33.815407",
     "exception": false,
     "start_time": "2020-11-27T21:20:33.795085",
     "status": "completed"
    },
    "tags": []
   },
   "source": [
    "## Baseline Score\n",
    "\n",
    "Let's look at the baseline score for all the features we've made so far."
   ]
  },
  {
   "cell_type": "code",
   "execution_count": 3,
   "metadata": {
    "execution": {
     "iopub.execute_input": "2020-11-27T21:20:33.859249Z",
     "iopub.status.busy": "2020-11-27T21:20:33.858505Z",
     "iopub.status.idle": "2020-11-27T21:22:09.130025Z",
     "shell.execute_reply": "2020-11-27T21:22:09.131302Z"
    },
    "papermill": {
     "duration": 95.297491,
     "end_time": "2020-11-27T21:22:09.131601",
     "exception": false,
     "start_time": "2020-11-27T21:20:33.834110",
     "status": "completed"
    },
    "tags": []
   },
   "outputs": [
    {
     "name": "stdout",
     "output_type": "stream",
     "text": [
      "Training model!\n",
      "Validation AUC score: 0.9658334271834417\n"
     ]
    }
   ],
   "source": [
    "train, valid, test = get_data_splits(clicks)\n",
    "_, baseline_score = train_model(train, valid)"
   ]
  },
  {
   "cell_type": "markdown",
   "metadata": {
    "papermill": {
     "duration": 0.021319,
     "end_time": "2020-11-27T21:22:09.176209",
     "exception": false,
     "start_time": "2020-11-27T21:22:09.154890",
     "status": "completed"
    },
    "tags": []
   },
   "source": [
    "### 1) Which data to use for feature selection?\n",
    "\n",
    "Since many feature selection methods require calculating statistics from the dataset, should you use all the data for feature selection?\n",
    "\n",
    "Run the following line after you've decided your answer."
   ]
  },
  {
   "cell_type": "code",
   "execution_count": 4,
   "metadata": {
    "execution": {
     "iopub.execute_input": "2020-11-27T21:22:09.222347Z",
     "iopub.status.busy": "2020-11-27T21:22:09.221313Z",
     "iopub.status.idle": "2020-11-27T21:22:09.226914Z",
     "shell.execute_reply": "2020-11-27T21:22:09.226166Z"
    },
    "papermill": {
     "duration": 0.031503,
     "end_time": "2020-11-27T21:22:09.227041",
     "exception": false,
     "start_time": "2020-11-27T21:22:09.195538",
     "status": "completed"
    },
    "tags": []
   },
   "outputs": [
    {
     "data": {
      "application/javascript": [
       "parent.postMessage({\"jupyterEvent\": \"custom.exercise_interaction\", \"data\": {\"interactionType\": 3, \"questionType\": 4, \"questionId\": \"1_FeatureSelectionData\", \"learnToolsVersion\": \"0.3.4\", \"valueTowardsCompletion\": 0.0, \"failureMessage\": \"\", \"exceptionClass\": \"\", \"trace\": \"\", \"outcomeType\": 4}}, \"*\")"
      ],
      "text/plain": [
       "<IPython.core.display.Javascript object>"
      ]
     },
     "metadata": {},
     "output_type": "display_data"
    },
    {
     "data": {
      "text/markdown": [
       "<span style=\"color:#33cc99\">Solution:</span> Including validation and test data within the feature selection is a source of leakage. You'll want to perform feature selection on the train set only, then use the results there to remove features from the validation and test sets."
      ],
      "text/plain": [
       "Solution: Including validation and test data within the feature selection is a source of leakage. You'll want to perform feature selection on the train set only, then use the results there to remove features from the validation and test sets."
      ]
     },
     "metadata": {},
     "output_type": "display_data"
    }
   ],
   "source": [
    "# Check your answer (Run this code cell to receive credit!)\n",
    "q_1.solution()"
   ]
  },
  {
   "cell_type": "markdown",
   "metadata": {
    "papermill": {
     "duration": 0.020709,
     "end_time": "2020-11-27T21:22:09.268978",
     "exception": false,
     "start_time": "2020-11-27T21:22:09.248269",
     "status": "completed"
    },
    "tags": []
   },
   "source": [
    "Now we have 91 features we're using for predictions. With all these features, there is a good chance the model is overfitting the data. We might be able to reduce the overfitting by removing some features. Of course, the model's performance might decrease. But at least we'd be making the model smaller and faster without losing much performance."
   ]
  },
  {
   "cell_type": "markdown",
   "metadata": {
    "papermill": {
     "duration": 0.020584,
     "end_time": "2020-11-27T21:22:09.310597",
     "exception": false,
     "start_time": "2020-11-27T21:22:09.290013",
     "status": "completed"
    },
    "tags": []
   },
   "source": [
    "### 2) Univariate Feature Selection\n",
    "\n",
    "Below, use `SelectKBest` with the `f_classif` scoring function to choose 40 features from the 91 features in the data. "
   ]
  },
  {
   "cell_type": "code",
   "execution_count": 5,
   "metadata": {
    "execution": {
     "iopub.execute_input": "2020-11-27T21:22:09.363456Z",
     "iopub.status.busy": "2020-11-27T21:22:09.362308Z",
     "iopub.status.idle": "2020-11-27T21:22:32.005073Z",
     "shell.execute_reply": "2020-11-27T21:22:32.004346Z"
    },
    "papermill": {
     "duration": 22.673582,
     "end_time": "2020-11-27T21:22:32.005202",
     "exception": false,
     "start_time": "2020-11-27T21:22:09.331620",
     "status": "completed"
    },
    "tags": []
   },
   "outputs": [
    {
     "data": {
      "application/javascript": [
       "parent.postMessage({\"jupyterEvent\": \"custom.exercise_interaction\", \"data\": {\"outcomeType\": 1, \"valueTowardsCompletion\": 0.16666666666666666, \"interactionType\": 1, \"questionType\": 2, \"questionId\": \"2_UnivariateSelection\", \"learnToolsVersion\": \"0.3.4\", \"failureMessage\": \"\", \"exceptionClass\": \"\", \"trace\": \"\"}}, \"*\")"
      ],
      "text/plain": [
       "<IPython.core.display.Javascript object>"
      ]
     },
     "metadata": {},
     "output_type": "display_data"
    },
    {
     "data": {
      "text/markdown": [
       "<span style=\"color:#33cc33\">Correct</span>"
      ],
      "text/plain": [
       "Correct"
      ]
     },
     "metadata": {},
     "output_type": "display_data"
    }
   ],
   "source": [
    "from sklearn.feature_selection import SelectKBest, f_classif\n",
    "feature_cols = clicks.columns.drop(['click_time', 'attributed_time', 'is_attributed'])\n",
    "train, valid, test = get_data_splits(clicks)\n",
    "\n",
    "# Create the selector, keeping 40 features\n",
    "selector = SelectKBest(f_classif, k=40)\n",
    "\n",
    "# Use the selector to retrieve the best features\n",
    "X_new = selector.fit_transform(train[feature_cols], train['is_attributed'])\n",
    "\n",
    "# Get back the kept features as a DataFrame with dropped columns as all 0s\n",
    "selected_features = pd.DataFrame(selector.inverse_transform(X_new), index=train.index, columns=feature_cols)\n",
    "\n",
    "# Find the columns that were dropped\n",
    "dropped_columns = dropped_columns = selected_features.columns[selected_features.var() == 0]\n",
    "\n",
    "# Check your answer\n",
    "q_2.check()"
   ]
  },
  {
   "cell_type": "code",
   "execution_count": 6,
   "metadata": {
    "execution": {
     "iopub.execute_input": "2020-11-27T21:22:32.056336Z",
     "iopub.status.busy": "2020-11-27T21:22:32.055308Z",
     "iopub.status.idle": "2020-11-27T21:22:32.058342Z",
     "shell.execute_reply": "2020-11-27T21:22:32.058970Z"
    },
    "papermill": {
     "duration": 0.030424,
     "end_time": "2020-11-27T21:22:32.059127",
     "exception": false,
     "start_time": "2020-11-27T21:22:32.028703",
     "status": "completed"
    },
    "tags": []
   },
   "outputs": [],
   "source": [
    "# Uncomment these lines if you need some guidance\n",
    "# q_2.hint()\n",
    "# q_2.solution()"
   ]
  },
  {
   "cell_type": "code",
   "execution_count": 7,
   "metadata": {
    "execution": {
     "iopub.execute_input": "2020-11-27T21:22:32.136029Z",
     "iopub.status.busy": "2020-11-27T21:22:32.129338Z",
     "iopub.status.idle": "2020-11-27T21:23:34.447587Z",
     "shell.execute_reply": "2020-11-27T21:23:34.448461Z"
    },
    "papermill": {
     "duration": 62.366692,
     "end_time": "2020-11-27T21:23:34.448656",
     "exception": false,
     "start_time": "2020-11-27T21:22:32.081964",
     "status": "completed"
    },
    "tags": []
   },
   "outputs": [
    {
     "name": "stdout",
     "output_type": "stream",
     "text": [
      "Training model!\n",
      "Validation AUC score: 0.9625481759576047\n"
     ]
    }
   ],
   "source": [
    "_ = train_model(train.drop(dropped_columns, axis=1), \n",
    "                valid.drop(dropped_columns, axis=1))"
   ]
  },
  {
   "cell_type": "markdown",
   "metadata": {
    "papermill": {
     "duration": 0.025665,
     "end_time": "2020-11-27T21:23:34.502438",
     "exception": false,
     "start_time": "2020-11-27T21:23:34.476773",
     "status": "completed"
    },
    "tags": []
   },
   "source": [
    "### 3) The best value of K\n",
    "\n",
    "With this method we can choose the best K features, but we still have to choose K ourselves. How would you find the \"best\" value of K? That is, you want it to be small so you're keeping the best features, but not so small that it's degrading the model's performance.\n",
    "\n",
    "Run the following line after you've decided your answer."
   ]
  },
  {
   "cell_type": "code",
   "execution_count": 8,
   "metadata": {
    "execution": {
     "iopub.execute_input": "2020-11-27T21:23:34.555147Z",
     "iopub.status.busy": "2020-11-27T21:23:34.554089Z",
     "iopub.status.idle": "2020-11-27T21:23:34.560398Z",
     "shell.execute_reply": "2020-11-27T21:23:34.559644Z"
    },
    "papermill": {
     "duration": 0.034488,
     "end_time": "2020-11-27T21:23:34.560522",
     "exception": false,
     "start_time": "2020-11-27T21:23:34.526034",
     "status": "completed"
    },
    "tags": []
   },
   "outputs": [
    {
     "data": {
      "application/javascript": [
       "parent.postMessage({\"jupyterEvent\": \"custom.exercise_interaction\", \"data\": {\"interactionType\": 3, \"questionType\": 4, \"questionId\": \"3_BestKValue\", \"learnToolsVersion\": \"0.3.4\", \"valueTowardsCompletion\": 0.0, \"failureMessage\": \"\", \"exceptionClass\": \"\", \"trace\": \"\", \"outcomeType\": 4}}, \"*\")"
      ],
      "text/plain": [
       "<IPython.core.display.Javascript object>"
      ]
     },
     "metadata": {},
     "output_type": "display_data"
    },
    {
     "data": {
      "text/markdown": [
       "<span style=\"color:#33cc99\">Solution:</span> To find the best value of K, you can fit multiple models with increasing values of K, then choose the smallest K with validation score above some threshold or some other criteria. A good way to do this is loop over values of K and record the validation scores for each iteration."
      ],
      "text/plain": [
       "Solution: To find the best value of K, you can fit multiple models with increasing values of K, then choose the smallest K with validation score above some threshold or some other criteria. A good way to do this is loop over values of K and record the validation scores for each iteration."
      ]
     },
     "metadata": {},
     "output_type": "display_data"
    }
   ],
   "source": [
    "# Check your answer (Run this code cell to receive credit!)\n",
    "q_3.solution()"
   ]
  },
  {
   "cell_type": "markdown",
   "metadata": {
    "papermill": {
     "duration": 0.024243,
     "end_time": "2020-11-27T21:23:34.609648",
     "exception": false,
     "start_time": "2020-11-27T21:23:34.585405",
     "status": "completed"
    },
    "tags": []
   },
   "source": [
    "### 4) Use L1 regularization for feature selection\n",
    "\n",
    "Now try a more powerful approach using L1 regularization. Implement a function `select_features_l1` that returns a list of features to keep.\n",
    "\n",
    "Use a `LogisticRegression` classifier model with an L1 penalty to select the features. For the model, set:\n",
    "- the random state to 7,\n",
    "- the regularization parameter to 0.1,\n",
    "- and the solver to `'liblinear'`.\n",
    "\n",
    "Fit the model then use `SelectFromModel` to return a model with the selected features.\n",
    "\n",
    "The checking code will run your function on a sample from the dataset to provide more immediate feedback."
   ]
  },
  {
   "cell_type": "code",
   "execution_count": 9,
   "metadata": {
    "execution": {
     "iopub.execute_input": "2020-11-27T21:23:34.750257Z",
     "iopub.status.busy": "2020-11-27T21:23:34.749437Z",
     "iopub.status.idle": "2020-11-27T21:23:43.638066Z",
     "shell.execute_reply": "2020-11-27T21:23:43.638635Z"
    },
    "papermill": {
     "duration": 9.004634,
     "end_time": "2020-11-27T21:23:43.638795",
     "exception": false,
     "start_time": "2020-11-27T21:23:34.634161",
     "status": "completed"
    },
    "tags": []
   },
   "outputs": [
    {
     "data": {
      "application/javascript": [
       "parent.postMessage({\"jupyterEvent\": \"custom.exercise_interaction\", \"data\": {\"outcomeType\": 1, \"valueTowardsCompletion\": 0.16666666666666666, \"interactionType\": 1, \"questionType\": 2, \"questionId\": \"4_L1Regularization\", \"learnToolsVersion\": \"0.3.4\", \"failureMessage\": \"\", \"exceptionClass\": \"\", \"trace\": \"\"}}, \"*\")"
      ],
      "text/plain": [
       "<IPython.core.display.Javascript object>"
      ]
     },
     "metadata": {},
     "output_type": "display_data"
    },
    {
     "data": {
      "text/markdown": [
       "<span style=\"color:#33cc33\">Correct</span>"
      ],
      "text/plain": [
       "Correct"
      ]
     },
     "metadata": {},
     "output_type": "display_data"
    }
   ],
   "source": [
    "from sklearn.linear_model import LogisticRegression\n",
    "from sklearn.feature_selection import SelectFromModel\n",
    "\n",
    "def select_features_l1(X, y):\n",
    "    \"\"\"Return selected features using logistic regression with an L1 penalty.\"\"\"\n",
    "    logistic = LogisticRegression(C=0.1, penalty=\"l1\", random_state=7, solver='liblinear').fit(X, y)\n",
    "    model = SelectFromModel(logistic, prefit=True)\n",
    "\n",
    "    X_new = model.transform(X)\n",
    "\n",
    "    # Get back the kept features as a DataFrame with dropped columns as all 0s\n",
    "    selected_features = pd.DataFrame(model.inverse_transform(X_new),\n",
    "                                    index=X.index,\n",
    "                                    columns=X.columns)\n",
    "\n",
    "    # Dropped columns have values of all 0s, keep other columns\n",
    "    cols_to_keep = selected_features.columns[selected_features.var() != 0]\n",
    "\n",
    "    return cols_to_keep\n",
    "\n",
    "# Check your answer\n",
    "q_4.check()"
   ]
  },
  {
   "cell_type": "code",
   "execution_count": 10,
   "metadata": {
    "execution": {
     "iopub.execute_input": "2020-11-27T21:23:43.695646Z",
     "iopub.status.busy": "2020-11-27T21:23:43.694556Z",
     "iopub.status.idle": "2020-11-27T21:23:43.698064Z",
     "shell.execute_reply": "2020-11-27T21:23:43.697458Z"
    },
    "papermill": {
     "duration": 0.033565,
     "end_time": "2020-11-27T21:23:43.698178",
     "exception": false,
     "start_time": "2020-11-27T21:23:43.664613",
     "status": "completed"
    },
    "tags": []
   },
   "outputs": [],
   "source": [
    "# Uncomment these if you're feeling stuck\n",
    "#q_4.hint()\n",
    "#q_4.solution()"
   ]
  },
  {
   "cell_type": "code",
   "execution_count": 11,
   "metadata": {
    "execution": {
     "iopub.execute_input": "2020-11-27T21:23:43.833250Z",
     "iopub.status.busy": "2020-11-27T21:23:43.831591Z",
     "iopub.status.idle": "2020-11-27T21:24:38.165121Z",
     "shell.execute_reply": "2020-11-27T21:24:38.165841Z"
    },
    "papermill": {
     "duration": 54.441825,
     "end_time": "2020-11-27T21:24:38.166041",
     "exception": false,
     "start_time": "2020-11-27T21:23:43.724216",
     "status": "completed"
    },
    "tags": []
   },
   "outputs": [
    {
     "name": "stdout",
     "output_type": "stream",
     "text": [
      "Training model!\n",
      "Validation AUC score: 0.9655039361169727\n"
     ]
    }
   ],
   "source": [
    "n_samples = 10000\n",
    "X, y = train[feature_cols][:n_samples], train['is_attributed'][:n_samples]\n",
    "selected = select_features_l1(X, y)\n",
    "\n",
    "dropped_columns = feature_cols.drop(selected)\n",
    "_ = train_model(train.drop(dropped_columns, axis=1), \n",
    "                valid.drop(dropped_columns, axis=1))"
   ]
  },
  {
   "cell_type": "markdown",
   "metadata": {
    "papermill": {
     "duration": 0.030069,
     "end_time": "2020-11-27T21:24:38.228544",
     "exception": false,
     "start_time": "2020-11-27T21:24:38.198475",
     "status": "completed"
    },
    "tags": []
   },
   "source": [
    "### 5) Feature Selection with Trees\n",
    "\n",
    "Since we're using a tree-based model, using another tree-based model for feature selection might produce better results. What would you do different to select the features using a trees classifier?\n",
    "\n",
    "Run the following line after you've decided your answer."
   ]
  },
  {
   "cell_type": "code",
   "execution_count": 12,
   "metadata": {
    "execution": {
     "iopub.execute_input": "2020-11-27T21:24:38.290464Z",
     "iopub.status.busy": "2020-11-27T21:24:38.289439Z",
     "iopub.status.idle": "2020-11-27T21:24:38.295685Z",
     "shell.execute_reply": "2020-11-27T21:24:38.294925Z"
    },
    "papermill": {
     "duration": 0.039324,
     "end_time": "2020-11-27T21:24:38.295811",
     "exception": false,
     "start_time": "2020-11-27T21:24:38.256487",
     "status": "completed"
    },
    "tags": []
   },
   "outputs": [
    {
     "data": {
      "application/javascript": [
       "parent.postMessage({\"jupyterEvent\": \"custom.exercise_interaction\", \"data\": {\"interactionType\": 3, \"questionType\": 4, \"questionId\": \"5_FeatureSelectionTrees\", \"learnToolsVersion\": \"0.3.4\", \"valueTowardsCompletion\": 0.0, \"failureMessage\": \"\", \"exceptionClass\": \"\", \"trace\": \"\", \"outcomeType\": 4}}, \"*\")"
      ],
      "text/plain": [
       "<IPython.core.display.Javascript object>"
      ]
     },
     "metadata": {},
     "output_type": "display_data"
    },
    {
     "data": {
      "text/markdown": [
       "<span style=\"color:#33cc99\">Solution:</span> You could use something like `RandomForestClassifier` or `ExtraTreesClassifier` to find feature importances. `SelectFromModel` can use the feature importances to find the best features."
      ],
      "text/plain": [
       "Solution: You could use something like `RandomForestClassifier` or `ExtraTreesClassifier` to find feature importances. `SelectFromModel` can use the feature importances to find the best features."
      ]
     },
     "metadata": {},
     "output_type": "display_data"
    }
   ],
   "source": [
    "# Check your answer (Run this code cell to receive credit!)\n",
    "q_5.solution()"
   ]
  },
  {
   "cell_type": "markdown",
   "metadata": {
    "papermill": {
     "duration": 0.028413,
     "end_time": "2020-11-27T21:24:38.353216",
     "exception": false,
     "start_time": "2020-11-27T21:24:38.324803",
     "status": "completed"
    },
    "tags": []
   },
   "source": [
    "### 6) Top K features with L1 regularization\n",
    "\n",
    "Here you've set the regularization parameter `C=0.1` which led to some number of features being dropped. However, by setting `C` you aren't able to choose a certain number of features to keep. What would you do to keep the top K important features using L1 regularization?\n",
    "\n",
    "Run the following line after you've decided your answer."
   ]
  },
  {
   "cell_type": "code",
   "execution_count": 13,
   "metadata": {
    "execution": {
     "iopub.execute_input": "2020-11-27T21:24:38.416441Z",
     "iopub.status.busy": "2020-11-27T21:24:38.415419Z",
     "iopub.status.idle": "2020-11-27T21:24:38.421578Z",
     "shell.execute_reply": "2020-11-27T21:24:38.420926Z"
    },
    "papermill": {
     "duration": 0.039808,
     "end_time": "2020-11-27T21:24:38.421708",
     "exception": false,
     "start_time": "2020-11-27T21:24:38.381900",
     "status": "completed"
    },
    "tags": []
   },
   "outputs": [
    {
     "data": {
      "application/javascript": [
       "parent.postMessage({\"jupyterEvent\": \"custom.exercise_interaction\", \"data\": {\"interactionType\": 3, \"questionType\": 4, \"questionId\": \"6_L1SelectionTopK\", \"learnToolsVersion\": \"0.3.4\", \"valueTowardsCompletion\": 0.0, \"failureMessage\": \"\", \"exceptionClass\": \"\", \"trace\": \"\", \"outcomeType\": 4}}, \"*\")"
      ],
      "text/plain": [
       "<IPython.core.display.Javascript object>"
      ]
     },
     "metadata": {},
     "output_type": "display_data"
    },
    {
     "data": {
      "text/markdown": [
       "<span style=\"color:#33cc99\">Solution:</span> To select a certain number of features with L1 regularization, you need to find the regularization parameter that leaves the desired number of features. To do this you can iterate over models with different regularization parameters from low to high and choose the one that leaves K features. Note that for the scikit-learn models C is the *inverse* of the regularization strength."
      ],
      "text/plain": [
       "Solution: To select a certain number of features with L1 regularization, you need to find the regularization parameter that leaves the desired number of features. To do this you can iterate over models with different regularization parameters from low to high and choose the one that leaves K features. Note that for the scikit-learn models C is the *inverse* of the regularization strength."
      ]
     },
     "metadata": {},
     "output_type": "display_data"
    }
   ],
   "source": [
    "# Check your answer (Run this code cell to receive credit!)\n",
    "q_6.solution()"
   ]
  },
  {
   "cell_type": "markdown",
   "metadata": {
    "papermill": {
     "duration": 0.030028,
     "end_time": "2020-11-27T21:24:38.482084",
     "exception": false,
     "start_time": "2020-11-27T21:24:38.452056",
     "status": "completed"
    },
    "tags": []
   },
   "source": [
    "Congratulations on finishing this course! To keep learning, check out the rest of [our courses](https://www.kaggle.com/learn/overview). The machine learning explainability and deep learning courses are great next skills to learn!"
   ]
  },
  {
   "cell_type": "markdown",
   "metadata": {
    "papermill": {
     "duration": 0.029949,
     "end_time": "2020-11-27T21:24:38.542302",
     "exception": false,
     "start_time": "2020-11-27T21:24:38.512353",
     "status": "completed"
    },
    "tags": []
   },
   "source": [
    "---\n",
    "\n",
    "\n",
    "\n",
    "\n",
    "*Have questions or comments? Visit the [Learn Discussion forum](https://www.kaggle.com/learn-forum/161443) to chat with other Learners.*"
   ]
  }
 ],
 "metadata": {
  "kernelspec": {
   "display_name": "Python 3",
   "language": "python",
   "name": "python3"
  },
  "language_info": {
   "codemirror_mode": {
    "name": "ipython",
    "version": 3
   },
   "file_extension": ".py",
   "mimetype": "text/x-python",
   "name": "python",
   "nbconvert_exporter": "python",
   "pygments_lexer": "ipython3",
   "version": "3.7.6"
  },
  "papermill": {
   "duration": 259.019704,
   "end_time": "2020-11-27T21:24:38.781800",
   "environment_variables": {},
   "exception": null,
   "input_path": "__notebook__.ipynb",
   "output_path": "__notebook__.ipynb",
   "parameters": {},
   "start_time": "2020-11-27T21:20:19.762096",
   "version": "2.1.0"
  }
 },
 "nbformat": 4,
 "nbformat_minor": 4
}
