{
 "cells": [
  {
   "cell_type": "markdown",
   "metadata": {
    "papermill": {
     "duration": 0.018737,
     "end_time": "2020-11-27T21:56:32.854911",
     "exception": false,
     "start_time": "2020-11-27T21:56:32.836174",
     "status": "completed"
    },
    "tags": []
   },
   "source": [
    "**This notebook is an exercise in the [Introduction to Machine Learning](https://www.kaggle.com/learn/intro-to-machine-learning) course.  You can reference the tutorial at [this link](https://www.kaggle.com/dansbecker/your-first-machine-learning-model).**\n",
    "\n",
    "---\n"
   ]
  },
  {
   "cell_type": "markdown",
   "metadata": {
    "papermill": {
     "duration": 0.015071,
     "end_time": "2020-11-27T21:56:32.885898",
     "exception": false,
     "start_time": "2020-11-27T21:56:32.870827",
     "status": "completed"
    },
    "tags": []
   },
   "source": [
    "## Recap\n",
    "So far, you have loaded your data and reviewed it with the following code. Run this cell to set up your coding environment where the previous step left off."
   ]
  },
  {
   "cell_type": "code",
   "execution_count": 1,
   "metadata": {
    "execution": {
     "iopub.execute_input": "2020-11-27T21:56:32.925387Z",
     "iopub.status.busy": "2020-11-27T21:56:32.924548Z",
     "iopub.status.idle": "2020-11-27T21:56:34.378742Z",
     "shell.execute_reply": "2020-11-27T21:56:34.378048Z"
    },
    "papermill": {
     "duration": 1.477488,
     "end_time": "2020-11-27T21:56:34.378870",
     "exception": false,
     "start_time": "2020-11-27T21:56:32.901382",
     "status": "completed"
    },
    "tags": []
   },
   "outputs": [
    {
     "name": "stdout",
     "output_type": "stream",
     "text": [
      "Setup Complete\n"
     ]
    }
   ],
   "source": [
    "# Code you have previously used to load data\n",
    "import pandas as pd\n",
    "\n",
    "# Path of the file to read\n",
    "iowa_file_path = '../input/home-data-for-ml-course/train.csv'\n",
    "\n",
    "home_data = pd.read_csv(iowa_file_path)\n",
    "\n",
    "# Set up code checking\n",
    "from learntools.core import binder\n",
    "binder.bind(globals())\n",
    "from learntools.machine_learning.ex3 import *\n",
    "\n",
    "print(\"Setup Complete\")"
   ]
  },
  {
   "cell_type": "markdown",
   "metadata": {
    "papermill": {
     "duration": 0.015623,
     "end_time": "2020-11-27T21:56:34.411226",
     "exception": false,
     "start_time": "2020-11-27T21:56:34.395603",
     "status": "completed"
    },
    "tags": []
   },
   "source": [
    "# Exercises\n",
    "\n",
    "## Step 1: Specify Prediction Target\n",
    "Select the target variable, which corresponds to the sales price. Save this to a new variable called `y`. You'll need to print a list of the columns to find the name of the column you need.\n"
   ]
  },
  {
   "cell_type": "code",
   "execution_count": 2,
   "metadata": {
    "collapsed": true,
    "execution": {
     "iopub.execute_input": "2020-11-27T21:56:34.448433Z",
     "iopub.status.busy": "2020-11-27T21:56:34.447652Z",
     "iopub.status.idle": "2020-11-27T21:56:34.451201Z",
     "shell.execute_reply": "2020-11-27T21:56:34.450583Z"
    },
    "papermill": {
     "duration": 0.024067,
     "end_time": "2020-11-27T21:56:34.451360",
     "exception": false,
     "start_time": "2020-11-27T21:56:34.427293",
     "status": "completed"
    },
    "tags": []
   },
   "outputs": [],
   "source": [
    "# print the list of columns in the dataset to find the name of the prediction target\n"
   ]
  },
  {
   "cell_type": "code",
   "execution_count": 3,
   "metadata": {
    "execution": {
     "iopub.execute_input": "2020-11-27T21:56:34.498330Z",
     "iopub.status.busy": "2020-11-27T21:56:34.497428Z",
     "iopub.status.idle": "2020-11-27T21:56:34.504283Z",
     "shell.execute_reply": "2020-11-27T21:56:34.503674Z"
    },
    "papermill": {
     "duration": 0.03675,
     "end_time": "2020-11-27T21:56:34.504424",
     "exception": false,
     "start_time": "2020-11-27T21:56:34.467674",
     "status": "completed"
    },
    "tags": []
   },
   "outputs": [
    {
     "data": {
      "application/javascript": [
       "parent.postMessage({\"jupyterEvent\": \"custom.exercise_interaction\", \"data\": {\"outcomeType\": 1, \"valueTowardsCompletion\": 0.25, \"interactionType\": 1, \"questionType\": 2, \"questionId\": \"1_SetTarget\", \"learnToolsVersion\": \"0.3.4\", \"failureMessage\": \"\", \"exceptionClass\": \"\", \"trace\": \"\"}}, \"*\")"
      ],
      "text/plain": [
       "<IPython.core.display.Javascript object>"
      ]
     },
     "metadata": {},
     "output_type": "display_data"
    },
    {
     "data": {
      "text/markdown": [
       "<span style=\"color:#33cc33\">Correct</span>"
      ],
      "text/plain": [
       "Correct"
      ]
     },
     "metadata": {},
     "output_type": "display_data"
    }
   ],
   "source": [
    "y = home_data.SalePrice\n",
    "\n",
    "# Check your answer\n",
    "step_1.check()"
   ]
  },
  {
   "cell_type": "code",
   "execution_count": 4,
   "metadata": {
    "execution": {
     "iopub.execute_input": "2020-11-27T21:56:34.545420Z",
     "iopub.status.busy": "2020-11-27T21:56:34.544338Z",
     "iopub.status.idle": "2020-11-27T21:56:34.547748Z",
     "shell.execute_reply": "2020-11-27T21:56:34.547131Z"
    },
    "papermill": {
     "duration": 0.025673,
     "end_time": "2020-11-27T21:56:34.547895",
     "exception": false,
     "start_time": "2020-11-27T21:56:34.522222",
     "status": "completed"
    },
    "tags": []
   },
   "outputs": [],
   "source": [
    "# The lines below will show you a hint or the solution.\n",
    "# step_1.hint() \n",
    "# step_1.solution()"
   ]
  },
  {
   "cell_type": "markdown",
   "metadata": {
    "papermill": {
     "duration": 0.01787,
     "end_time": "2020-11-27T21:56:34.584483",
     "exception": false,
     "start_time": "2020-11-27T21:56:34.566613",
     "status": "completed"
    },
    "tags": []
   },
   "source": [
    "## Step 2: Create X\n",
    "Now you will create a DataFrame called `X` holding the predictive features.\n",
    "\n",
    "Since you want only some columns from the original data, you'll first create a list with the names of the columns you want in `X`.\n",
    "\n",
    "You'll use just the following columns in the list (you can copy and paste the whole list to save some typing, though you'll still need to add quotes):\n",
    "    * LotArea\n",
    "    * YearBuilt\n",
    "    * 1stFlrSF\n",
    "    * 2ndFlrSF\n",
    "    * FullBath\n",
    "    * BedroomAbvGr\n",
    "    * TotRmsAbvGrd\n",
    "\n",
    "After you've created that list of features, use it to create the DataFrame that you'll use to fit the model."
   ]
  },
  {
   "cell_type": "code",
   "execution_count": 5,
   "metadata": {
    "execution": {
     "iopub.execute_input": "2020-11-27T21:56:34.629385Z",
     "iopub.status.busy": "2020-11-27T21:56:34.628462Z",
     "iopub.status.idle": "2020-11-27T21:56:34.634732Z",
     "shell.execute_reply": "2020-11-27T21:56:34.633964Z"
    },
    "papermill": {
     "duration": 0.032436,
     "end_time": "2020-11-27T21:56:34.634856",
     "exception": false,
     "start_time": "2020-11-27T21:56:34.602420",
     "status": "completed"
    },
    "tags": []
   },
   "outputs": [
    {
     "data": {
      "application/javascript": [
       "parent.postMessage({\"jupyterEvent\": \"custom.exercise_interaction\", \"data\": {\"outcomeType\": 1, \"valueTowardsCompletion\": 0.25, \"interactionType\": 1, \"questionType\": 2, \"questionId\": \"2_SelectPredictionData\", \"learnToolsVersion\": \"0.3.4\", \"failureMessage\": \"\", \"exceptionClass\": \"\", \"trace\": \"\"}}, \"*\")"
      ],
      "text/plain": [
       "<IPython.core.display.Javascript object>"
      ]
     },
     "metadata": {},
     "output_type": "display_data"
    },
    {
     "data": {
      "text/markdown": [
       "<span style=\"color:#33cc33\">Correct</span>"
      ],
      "text/plain": [
       "Correct"
      ]
     },
     "metadata": {},
     "output_type": "display_data"
    }
   ],
   "source": [
    "# Create the list of features below\n",
    "feature_names = [\"LotArea\", \"YearBuilt\", \"1stFlrSF\", \"2ndFlrSF\",\n",
    "                      \"FullBath\", \"BedroomAbvGr\", \"TotRmsAbvGrd\"]\n",
    "\n",
    "# Select data corresponding to features in feature_names\n",
    "X = home_data[feature_names]\n",
    "\n",
    "# Check your answer\n",
    "step_2.check()"
   ]
  },
  {
   "cell_type": "code",
   "execution_count": 6,
   "metadata": {
    "execution": {
     "iopub.execute_input": "2020-11-27T21:56:34.677667Z",
     "iopub.status.busy": "2020-11-27T21:56:34.676913Z",
     "iopub.status.idle": "2020-11-27T21:56:34.681331Z",
     "shell.execute_reply": "2020-11-27T21:56:34.680602Z"
    },
    "papermill": {
     "duration": 0.027506,
     "end_time": "2020-11-27T21:56:34.681461",
     "exception": false,
     "start_time": "2020-11-27T21:56:34.653955",
     "status": "completed"
    },
    "tags": []
   },
   "outputs": [],
   "source": [
    "# step_2.hint()\n",
    "# step_2.solution()"
   ]
  },
  {
   "cell_type": "markdown",
   "metadata": {
    "papermill": {
     "duration": 0.019155,
     "end_time": "2020-11-27T21:56:34.720103",
     "exception": false,
     "start_time": "2020-11-27T21:56:34.700948",
     "status": "completed"
    },
    "tags": []
   },
   "source": [
    "## Review Data\n",
    "Before building a model, take a quick look at **X** to verify it looks sensible"
   ]
  },
  {
   "cell_type": "code",
   "execution_count": 7,
   "metadata": {
    "collapsed": true,
    "execution": {
     "iopub.execute_input": "2020-11-27T21:56:34.763664Z",
     "iopub.status.busy": "2020-11-27T21:56:34.762881Z",
     "iopub.status.idle": "2020-11-27T21:56:34.766350Z",
     "shell.execute_reply": "2020-11-27T21:56:34.765709Z"
    },
    "papermill": {
     "duration": 0.027193,
     "end_time": "2020-11-27T21:56:34.766487",
     "exception": false,
     "start_time": "2020-11-27T21:56:34.739294",
     "status": "completed"
    },
    "tags": []
   },
   "outputs": [],
   "source": [
    "# Review data\n",
    "# print description or statistics from X\n",
    "#print(_)\n",
    "\n",
    "# print the top few lines\n",
    "#print(_)"
   ]
  },
  {
   "cell_type": "markdown",
   "metadata": {
    "papermill": {
     "duration": 0.020799,
     "end_time": "2020-11-27T21:56:34.807475",
     "exception": false,
     "start_time": "2020-11-27T21:56:34.786676",
     "status": "completed"
    },
    "tags": []
   },
   "source": [
    "## Step 3: Specify and Fit Model\n",
    "Create a `DecisionTreeRegressor` and save it iowa_model. Ensure you've done the relevant import from sklearn to run this command.\n",
    "\n",
    "Then fit the model you just created using the data in `X` and `y` that you saved above."
   ]
  },
  {
   "cell_type": "code",
   "execution_count": 8,
   "metadata": {
    "execution": {
     "iopub.execute_input": "2020-11-27T21:56:34.859064Z",
     "iopub.status.busy": "2020-11-27T21:56:34.858130Z",
     "iopub.status.idle": "2020-11-27T21:56:34.874264Z",
     "shell.execute_reply": "2020-11-27T21:56:34.873657Z"
    },
    "papermill": {
     "duration": 0.046934,
     "end_time": "2020-11-27T21:56:34.874400",
     "exception": false,
     "start_time": "2020-11-27T21:56:34.827466",
     "status": "completed"
    },
    "tags": []
   },
   "outputs": [
    {
     "data": {
      "application/javascript": [
       "parent.postMessage({\"jupyterEvent\": \"custom.exercise_interaction\", \"data\": {\"outcomeType\": 1, \"valueTowardsCompletion\": 0.25, \"interactionType\": 1, \"questionType\": 2, \"questionId\": \"3_CreateModel\", \"learnToolsVersion\": \"0.3.4\", \"failureMessage\": \"\", \"exceptionClass\": \"\", \"trace\": \"\"}}, \"*\")"
      ],
      "text/plain": [
       "<IPython.core.display.Javascript object>"
      ]
     },
     "metadata": {},
     "output_type": "display_data"
    },
    {
     "data": {
      "text/markdown": [
       "<span style=\"color:#33cc33\">Correct</span>"
      ],
      "text/plain": [
       "Correct"
      ]
     },
     "metadata": {},
     "output_type": "display_data"
    }
   ],
   "source": [
    "from sklearn.tree import DecisionTreeRegressor\n",
    "\n",
    "#For model reproducibility, set a numeric value for random_state when specifying the model\n",
    "iowa_model = DecisionTreeRegressor(random_state=1)\n",
    "\n",
    "# Fit the model\n",
    "iowa_model.fit(X, y)\n",
    "\n",
    "# Check your answer\n",
    "step_3.check()"
   ]
  },
  {
   "cell_type": "code",
   "execution_count": 9,
   "metadata": {
    "execution": {
     "iopub.execute_input": "2020-11-27T21:56:34.921925Z",
     "iopub.status.busy": "2020-11-27T21:56:34.920892Z",
     "iopub.status.idle": "2020-11-27T21:56:34.924189Z",
     "shell.execute_reply": "2020-11-27T21:56:34.923481Z"
    },
    "papermill": {
     "duration": 0.028451,
     "end_time": "2020-11-27T21:56:34.924328",
     "exception": false,
     "start_time": "2020-11-27T21:56:34.895877",
     "status": "completed"
    },
    "tags": []
   },
   "outputs": [],
   "source": [
    "# step_3.hint()\n",
    "# step_3.solution()"
   ]
  },
  {
   "cell_type": "markdown",
   "metadata": {
    "papermill": {
     "duration": 0.020689,
     "end_time": "2020-11-27T21:56:34.966197",
     "exception": false,
     "start_time": "2020-11-27T21:56:34.945508",
     "status": "completed"
    },
    "tags": []
   },
   "source": [
    "## Step 4: Make Predictions\n",
    "Make predictions with the model's `predict` command using `X` as the data. Save the results to a variable called `predictions`."
   ]
  },
  {
   "cell_type": "code",
   "execution_count": 10,
   "metadata": {
    "execution": {
     "iopub.execute_input": "2020-11-27T21:56:35.017918Z",
     "iopub.status.busy": "2020-11-27T21:56:35.016657Z",
     "iopub.status.idle": "2020-11-27T21:56:35.030009Z",
     "shell.execute_reply": "2020-11-27T21:56:35.029251Z"
    },
    "papermill": {
     "duration": 0.042748,
     "end_time": "2020-11-27T21:56:35.030133",
     "exception": false,
     "start_time": "2020-11-27T21:56:34.987385",
     "status": "completed"
    },
    "tags": []
   },
   "outputs": [
    {
     "name": "stdout",
     "output_type": "stream",
     "text": [
      "[208500. 181500. 223500. ... 266500. 142125. 147500.]\n"
     ]
    },
    {
     "data": {
      "application/javascript": [
       "parent.postMessage({\"jupyterEvent\": \"custom.exercise_interaction\", \"data\": {\"outcomeType\": 1, \"valueTowardsCompletion\": 0.25, \"interactionType\": 1, \"questionType\": 2, \"questionId\": \"4_MakePredictions\", \"learnToolsVersion\": \"0.3.4\", \"failureMessage\": \"\", \"exceptionClass\": \"\", \"trace\": \"\"}}, \"*\")"
      ],
      "text/plain": [
       "<IPython.core.display.Javascript object>"
      ]
     },
     "metadata": {},
     "output_type": "display_data"
    },
    {
     "data": {
      "text/markdown": [
       "<span style=\"color:#33cc33\">Correct</span>"
      ],
      "text/plain": [
       "Correct"
      ]
     },
     "metadata": {},
     "output_type": "display_data"
    }
   ],
   "source": [
    "predictions = iowa_model.predict(X)\n",
    "print(predictions)\n",
    "\n",
    "# Check your answer\n",
    "step_4.check()"
   ]
  },
  {
   "cell_type": "code",
   "execution_count": 11,
   "metadata": {
    "execution": {
     "iopub.execute_input": "2020-11-27T21:56:35.081390Z",
     "iopub.status.busy": "2020-11-27T21:56:35.080235Z",
     "iopub.status.idle": "2020-11-27T21:56:35.083453Z",
     "shell.execute_reply": "2020-11-27T21:56:35.082824Z"
    },
    "papermill": {
     "duration": 0.03045,
     "end_time": "2020-11-27T21:56:35.083590",
     "exception": false,
     "start_time": "2020-11-27T21:56:35.053140",
     "status": "completed"
    },
    "tags": []
   },
   "outputs": [],
   "source": [
    "# step_4.hint()\n",
    "# step_4.solution()"
   ]
  },
  {
   "cell_type": "markdown",
   "metadata": {
    "papermill": {
     "duration": 0.022877,
     "end_time": "2020-11-27T21:56:35.129841",
     "exception": false,
     "start_time": "2020-11-27T21:56:35.106964",
     "status": "completed"
    },
    "tags": []
   },
   "source": [
    "## Think About Your Results\n",
    "\n",
    "Use the `head` method to compare the top few predictions to the actual home values (in `y`) for those same homes. Anything surprising?\n"
   ]
  },
  {
   "cell_type": "code",
   "execution_count": 12,
   "metadata": {
    "execution": {
     "iopub.execute_input": "2020-11-27T21:56:35.181828Z",
     "iopub.status.busy": "2020-11-27T21:56:35.180880Z",
     "iopub.status.idle": "2020-11-27T21:56:35.184439Z",
     "shell.execute_reply": "2020-11-27T21:56:35.183685Z"
    },
    "papermill": {
     "duration": 0.031291,
     "end_time": "2020-11-27T21:56:35.184563",
     "exception": false,
     "start_time": "2020-11-27T21:56:35.153272",
     "status": "completed"
    },
    "tags": []
   },
   "outputs": [],
   "source": [
    "# You can write code in this cell\n"
   ]
  },
  {
   "cell_type": "markdown",
   "metadata": {
    "papermill": {
     "duration": 0.023016,
     "end_time": "2020-11-27T21:56:35.231129",
     "exception": false,
     "start_time": "2020-11-27T21:56:35.208113",
     "status": "completed"
    },
    "tags": []
   },
   "source": [
    "It's natural to ask how accurate the model's predictions will be and how you can improve that. That will be you're next step.\n",
    "\n",
    "# Keep Going\n",
    "\n",
    "You are ready for **[Model Validation](https://www.kaggle.com/dansbecker/model-validation).**\n"
   ]
  },
  {
   "cell_type": "markdown",
   "metadata": {
    "papermill": {
     "duration": 0.023239,
     "end_time": "2020-11-27T21:56:35.277780",
     "exception": false,
     "start_time": "2020-11-27T21:56:35.254541",
     "status": "completed"
    },
    "tags": []
   },
   "source": [
    "---\n",
    "\n",
    "\n",
    "\n",
    "\n",
    "*Have questions or comments? Visit the [Learn Discussion forum](https://www.kaggle.com/learn-forum/161285) to chat with other Learners.*"
   ]
  }
 ],
 "metadata": {
  "kernelspec": {
   "display_name": "Python 3",
   "language": "python",
   "name": "python3"
  },
  "language_info": {
   "codemirror_mode": {
    "name": "ipython",
    "version": 3
   },
   "file_extension": ".py",
   "mimetype": "text/x-python",
   "name": "python",
   "nbconvert_exporter": "python",
   "pygments_lexer": "ipython3",
   "version": "3.7.6"
  },
  "papermill": {
   "duration": 7.836035,
   "end_time": "2020-11-27T21:56:35.408439",
   "environment_variables": {},
   "exception": null,
   "input_path": "__notebook__.ipynb",
   "output_path": "__notebook__.ipynb",
   "parameters": {},
   "start_time": "2020-11-27T21:56:27.572404",
   "version": "2.1.0"
  }
 },
 "nbformat": 4,
 "nbformat_minor": 4
}
