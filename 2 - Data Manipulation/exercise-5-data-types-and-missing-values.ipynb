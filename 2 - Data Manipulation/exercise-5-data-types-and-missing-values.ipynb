{
 "cells": [
  {
   "cell_type": "markdown",
   "metadata": {
    "papermill": {
     "duration": 0.015617,
     "end_time": "2020-11-27T21:22:24.751724",
     "exception": false,
     "start_time": "2020-11-27T21:22:24.736107",
     "status": "completed"
    },
    "tags": []
   },
   "source": [
    "**This notebook is an exercise in the [Pandas](https://www.kaggle.com/learn/pandas) course.  You can reference the tutorial at [this link](https://www.kaggle.com/residentmario/data-types-and-missing-values).**\n",
    "\n",
    "---\n"
   ]
  },
  {
   "cell_type": "markdown",
   "metadata": {
    "papermill": {
     "duration": 0.012533,
     "end_time": "2020-11-27T21:22:24.777504",
     "exception": false,
     "start_time": "2020-11-27T21:22:24.764971",
     "status": "completed"
    },
    "tags": []
   },
   "source": [
    "# Introduction\n",
    "\n",
    "Run the following cell to load your data and some utility functions."
   ]
  },
  {
   "cell_type": "code",
   "execution_count": 1,
   "metadata": {
    "execution": {
     "iopub.execute_input": "2020-11-27T21:22:24.813078Z",
     "iopub.status.busy": "2020-11-27T21:22:24.812089Z",
     "iopub.status.idle": "2020-11-27T21:22:27.391386Z",
     "shell.execute_reply": "2020-11-27T21:22:27.390062Z"
    },
    "papermill": {
     "duration": 2.601304,
     "end_time": "2020-11-27T21:22:27.391623",
     "exception": false,
     "start_time": "2020-11-27T21:22:24.790319",
     "status": "completed"
    },
    "tags": []
   },
   "outputs": [
    {
     "name": "stdout",
     "output_type": "stream",
     "text": [
      "Setup complete.\n"
     ]
    }
   ],
   "source": [
    "import pandas as pd\n",
    "\n",
    "reviews = pd.read_csv(\"../input/wine-reviews/winemag-data-130k-v2.csv\", index_col=0)\n",
    "\n",
    "from learntools.core import binder; binder.bind(globals())\n",
    "from learntools.pandas.data_types_and_missing_data import *\n",
    "print(\"Setup complete.\")"
   ]
  },
  {
   "cell_type": "markdown",
   "metadata": {
    "papermill": {
     "duration": 0.012896,
     "end_time": "2020-11-27T21:22:27.418964",
     "exception": false,
     "start_time": "2020-11-27T21:22:27.406068",
     "status": "completed"
    },
    "tags": []
   },
   "source": [
    "# Exercises"
   ]
  },
  {
   "cell_type": "markdown",
   "metadata": {
    "papermill": {
     "duration": 0.013003,
     "end_time": "2020-11-27T21:22:27.445731",
     "exception": false,
     "start_time": "2020-11-27T21:22:27.432728",
     "status": "completed"
    },
    "tags": []
   },
   "source": [
    "## 1. \n",
    "What is the data type of the `points` column in the dataset?"
   ]
  },
  {
   "cell_type": "code",
   "execution_count": 2,
   "metadata": {
    "execution": {
     "iopub.execute_input": "2020-11-27T21:22:27.480516Z",
     "iopub.status.busy": "2020-11-27T21:22:27.479810Z",
     "iopub.status.idle": "2020-11-27T21:22:27.486216Z",
     "shell.execute_reply": "2020-11-27T21:22:27.485571Z"
    },
    "papermill": {
     "duration": 0.027307,
     "end_time": "2020-11-27T21:22:27.486331",
     "exception": false,
     "start_time": "2020-11-27T21:22:27.459024",
     "status": "completed"
    },
    "tags": []
   },
   "outputs": [
    {
     "data": {
      "application/javascript": [
       "parent.postMessage({\"jupyterEvent\": \"custom.exercise_interaction\", \"data\": {\"outcomeType\": 1, \"valueTowardsCompletion\": 0.25, \"interactionType\": 1, \"questionType\": 1, \"questionId\": \"1_PointsDtype\", \"learnToolsVersion\": \"0.3.4\", \"failureMessage\": \"\", \"exceptionClass\": \"\", \"trace\": \"\"}}, \"*\")"
      ],
      "text/plain": [
       "<IPython.core.display.Javascript object>"
      ]
     },
     "metadata": {},
     "output_type": "display_data"
    },
    {
     "data": {
      "text/markdown": [
       "<span style=\"color:#33cc33\">Correct</span>"
      ],
      "text/plain": [
       "Correct"
      ]
     },
     "metadata": {},
     "output_type": "display_data"
    }
   ],
   "source": [
    "# Your code here\n",
    "dtype = reviews.points.dtype\n",
    "\n",
    "# Check your answer\n",
    "q1.check()"
   ]
  },
  {
   "cell_type": "code",
   "execution_count": 3,
   "metadata": {
    "execution": {
     "iopub.execute_input": "2020-11-27T21:22:27.521034Z",
     "iopub.status.busy": "2020-11-27T21:22:27.520254Z",
     "iopub.status.idle": "2020-11-27T21:22:27.523663Z",
     "shell.execute_reply": "2020-11-27T21:22:27.523009Z"
    },
    "papermill": {
     "duration": 0.022397,
     "end_time": "2020-11-27T21:22:27.523795",
     "exception": false,
     "start_time": "2020-11-27T21:22:27.501398",
     "status": "completed"
    },
    "tags": []
   },
   "outputs": [],
   "source": [
    "#q1.hint()\n",
    "#q1.solution()"
   ]
  },
  {
   "cell_type": "markdown",
   "metadata": {
    "papermill": {
     "duration": 0.014644,
     "end_time": "2020-11-27T21:22:27.553650",
     "exception": false,
     "start_time": "2020-11-27T21:22:27.539006",
     "status": "completed"
    },
    "tags": []
   },
   "source": [
    "## 2. \n",
    "Create a Series from entries in the `points` column, but convert the entries to strings. Hint: strings are `str` in native Python."
   ]
  },
  {
   "cell_type": "code",
   "execution_count": 4,
   "metadata": {
    "execution": {
     "iopub.execute_input": "2020-11-27T21:22:27.781737Z",
     "iopub.status.busy": "2020-11-27T21:22:27.780273Z",
     "iopub.status.idle": "2020-11-27T21:22:27.786901Z",
     "shell.execute_reply": "2020-11-27T21:22:27.787562Z"
    },
    "papermill": {
     "duration": 0.219107,
     "end_time": "2020-11-27T21:22:27.787731",
     "exception": false,
     "start_time": "2020-11-27T21:22:27.568624",
     "status": "completed"
    },
    "tags": []
   },
   "outputs": [
    {
     "data": {
      "application/javascript": [
       "parent.postMessage({\"jupyterEvent\": \"custom.exercise_interaction\", \"data\": {\"outcomeType\": 1, \"valueTowardsCompletion\": 0.25, \"interactionType\": 1, \"questionType\": 1, \"questionId\": \"2_StrPoints\", \"learnToolsVersion\": \"0.3.4\", \"failureMessage\": \"\", \"exceptionClass\": \"\", \"trace\": \"\"}}, \"*\")"
      ],
      "text/plain": [
       "<IPython.core.display.Javascript object>"
      ]
     },
     "metadata": {},
     "output_type": "display_data"
    },
    {
     "data": {
      "text/markdown": [
       "<span style=\"color:#33cc33\">Correct</span>"
      ],
      "text/plain": [
       "Correct"
      ]
     },
     "metadata": {},
     "output_type": "display_data"
    }
   ],
   "source": [
    "point_strings = reviews.points.astype(str)\n",
    "\n",
    "# Check your answer\n",
    "q2.check()"
   ]
  },
  {
   "cell_type": "code",
   "execution_count": 5,
   "metadata": {
    "execution": {
     "iopub.execute_input": "2020-11-27T21:22:27.825663Z",
     "iopub.status.busy": "2020-11-27T21:22:27.824912Z",
     "iopub.status.idle": "2020-11-27T21:22:27.828461Z",
     "shell.execute_reply": "2020-11-27T21:22:27.827878Z"
    },
    "papermill": {
     "duration": 0.024401,
     "end_time": "2020-11-27T21:22:27.828608",
     "exception": false,
     "start_time": "2020-11-27T21:22:27.804207",
     "status": "completed"
    },
    "tags": []
   },
   "outputs": [],
   "source": [
    "#q2.hint()\n",
    "#q2.solution()"
   ]
  },
  {
   "cell_type": "markdown",
   "metadata": {
    "papermill": {
     "duration": 0.016286,
     "end_time": "2020-11-27T21:22:27.861696",
     "exception": false,
     "start_time": "2020-11-27T21:22:27.845410",
     "status": "completed"
    },
    "tags": []
   },
   "source": [
    "## 3.\n",
    "Sometimes the price column is null. How many reviews in the dataset are missing a price?"
   ]
  },
  {
   "cell_type": "code",
   "execution_count": 6,
   "metadata": {
    "execution": {
     "iopub.execute_input": "2020-11-27T21:22:27.901891Z",
     "iopub.status.busy": "2020-11-27T21:22:27.900849Z",
     "iopub.status.idle": "2020-11-27T21:22:27.908015Z",
     "shell.execute_reply": "2020-11-27T21:22:27.907256Z"
    },
    "papermill": {
     "duration": 0.029925,
     "end_time": "2020-11-27T21:22:27.908148",
     "exception": false,
     "start_time": "2020-11-27T21:22:27.878223",
     "status": "completed"
    },
    "tags": []
   },
   "outputs": [
    {
     "data": {
      "application/javascript": [
       "parent.postMessage({\"jupyterEvent\": \"custom.exercise_interaction\", \"data\": {\"outcomeType\": 1, \"valueTowardsCompletion\": 0.25, \"interactionType\": 1, \"questionType\": 1, \"questionId\": \"3_CountMissingPrices\", \"learnToolsVersion\": \"0.3.4\", \"failureMessage\": \"\", \"exceptionClass\": \"\", \"trace\": \"\"}}, \"*\")"
      ],
      "text/plain": [
       "<IPython.core.display.Javascript object>"
      ]
     },
     "metadata": {},
     "output_type": "display_data"
    },
    {
     "data": {
      "text/markdown": [
       "<span style=\"color:#33cc33\">Correct</span>"
      ],
      "text/plain": [
       "Correct"
      ]
     },
     "metadata": {},
     "output_type": "display_data"
    }
   ],
   "source": [
    "n_missing_prices = reviews.price.isnull().sum()\n",
    "\n",
    "# Check your answer\n",
    "q3.check()"
   ]
  },
  {
   "cell_type": "code",
   "execution_count": 7,
   "metadata": {
    "execution": {
     "iopub.execute_input": "2020-11-27T21:22:27.949170Z",
     "iopub.status.busy": "2020-11-27T21:22:27.948425Z",
     "iopub.status.idle": "2020-11-27T21:22:27.951388Z",
     "shell.execute_reply": "2020-11-27T21:22:27.950828Z"
    },
    "papermill": {
     "duration": 0.025177,
     "end_time": "2020-11-27T21:22:27.951512",
     "exception": false,
     "start_time": "2020-11-27T21:22:27.926335",
     "status": "completed"
    },
    "tags": []
   },
   "outputs": [],
   "source": [
    "#q3.hint()\n",
    "#q3.solution()"
   ]
  },
  {
   "cell_type": "markdown",
   "metadata": {
    "papermill": {
     "duration": 0.018103,
     "end_time": "2020-11-27T21:22:27.988066",
     "exception": false,
     "start_time": "2020-11-27T21:22:27.969963",
     "status": "completed"
    },
    "tags": []
   },
   "source": [
    "## 4.\n",
    "What are the most common wine-producing regions? Create a Series counting the number of times each value occurs in the `region_1` field. This field is often missing data, so replace missing values with `Unknown`. Sort in descending order.  Your output should look something like this:\n",
    "\n",
    "```\n",
    "Unknown                    21247\n",
    "Napa Valley                 4480\n",
    "                           ...  \n",
    "Bardolino Superiore            1\n",
    "Primitivo del Tarantino        1\n",
    "Name: region_1, Length: 1230, dtype: int64\n",
    "```"
   ]
  },
  {
   "cell_type": "code",
   "execution_count": 8,
   "metadata": {
    "execution": {
     "iopub.execute_input": "2020-11-27T21:22:28.044472Z",
     "iopub.status.busy": "2020-11-27T21:22:28.043342Z",
     "iopub.status.idle": "2020-11-27T21:22:28.140467Z",
     "shell.execute_reply": "2020-11-27T21:22:28.139874Z"
    },
    "papermill": {
     "duration": 0.134202,
     "end_time": "2020-11-27T21:22:28.140584",
     "exception": false,
     "start_time": "2020-11-27T21:22:28.006382",
     "status": "completed"
    },
    "tags": []
   },
   "outputs": [
    {
     "data": {
      "application/javascript": [
       "parent.postMessage({\"jupyterEvent\": \"custom.exercise_interaction\", \"data\": {\"outcomeType\": 1, \"valueTowardsCompletion\": 0.25, \"interactionType\": 1, \"questionType\": 2, \"questionId\": \"4_ReviewsPerRegion\", \"learnToolsVersion\": \"0.3.4\", \"failureMessage\": \"\", \"exceptionClass\": \"\", \"trace\": \"\"}}, \"*\")"
      ],
      "text/plain": [
       "<IPython.core.display.Javascript object>"
      ]
     },
     "metadata": {},
     "output_type": "display_data"
    },
    {
     "data": {
      "text/markdown": [
       "<span style=\"color:#33cc33\">Correct</span>"
      ],
      "text/plain": [
       "Correct"
      ]
     },
     "metadata": {},
     "output_type": "display_data"
    }
   ],
   "source": [
    "reviews_per_region = reviews.region_1.fillna('Unknown').value_counts().sort_values(ascending=False)\n",
    "\n",
    "# Check your answer\n",
    "q4.check()"
   ]
  },
  {
   "cell_type": "code",
   "execution_count": 9,
   "metadata": {
    "execution": {
     "iopub.execute_input": "2020-11-27T21:22:28.184949Z",
     "iopub.status.busy": "2020-11-27T21:22:28.184000Z",
     "iopub.status.idle": "2020-11-27T21:22:28.187447Z",
     "shell.execute_reply": "2020-11-27T21:22:28.186722Z"
    },
    "papermill": {
     "duration": 0.02738,
     "end_time": "2020-11-27T21:22:28.187568",
     "exception": false,
     "start_time": "2020-11-27T21:22:28.160188",
     "status": "completed"
    },
    "tags": []
   },
   "outputs": [],
   "source": [
    "#q4.hint()\n",
    "#q4.solution()"
   ]
  },
  {
   "cell_type": "markdown",
   "metadata": {
    "papermill": {
     "duration": 0.019586,
     "end_time": "2020-11-27T21:22:28.227155",
     "exception": false,
     "start_time": "2020-11-27T21:22:28.207569",
     "status": "completed"
    },
    "tags": []
   },
   "source": [
    "# Keep going\n",
    "\n",
    "Move on to **[renaming and combining](https://www.kaggle.com/residentmario/renaming-and-combining)**."
   ]
  },
  {
   "cell_type": "markdown",
   "metadata": {
    "papermill": {
     "duration": 0.020535,
     "end_time": "2020-11-27T21:22:28.267687",
     "exception": false,
     "start_time": "2020-11-27T21:22:28.247152",
     "status": "completed"
    },
    "tags": []
   },
   "source": [
    "---\n",
    "\n",
    "\n",
    "\n",
    "\n",
    "*Have questions or comments? Visit the [Learn Discussion forum](https://www.kaggle.com/learn-forum/161299) to chat with other Learners.*"
   ]
  }
 ],
 "metadata": {
  "kernelspec": {
   "display_name": "Python 3",
   "language": "python",
   "name": "python3"
  },
  "language_info": {
   "codemirror_mode": {
    "name": "ipython",
    "version": 3
   },
   "file_extension": ".py",
   "mimetype": "text/x-python",
   "name": "python",
   "nbconvert_exporter": "python",
   "pygments_lexer": "ipython3",
   "version": "3.7.6"
  },
  "papermill": {
   "duration": 8.696256,
   "end_time": "2020-11-27T21:22:28.395613",
   "environment_variables": {},
   "exception": null,
   "input_path": "__notebook__.ipynb",
   "output_path": "__notebook__.ipynb",
   "parameters": {},
   "start_time": "2020-11-27T21:22:19.699357",
   "version": "2.1.0"
  }
 },
 "nbformat": 4,
 "nbformat_minor": 4
}
