{
 "cells": [
  {
   "cell_type": "markdown",
   "metadata": {
    "papermill": {
     "duration": 0.021766,
     "end_time": "2020-11-24T13:05:02.834970",
     "exception": false,
     "start_time": "2020-11-24T13:05:02.813204",
     "status": "completed"
    },
    "tags": []
   },
   "source": [
    "**This notebook is an exercise in the [Pandas](https://www.kaggle.com/learn/pandas) course.  You can reference the tutorial at [this link](https://www.kaggle.com/residentmario/grouping-and-sorting).**\n",
    "\n",
    "---\n"
   ]
  },
  {
   "cell_type": "markdown",
   "metadata": {
    "papermill": {
     "duration": 0.018156,
     "end_time": "2020-11-24T13:05:02.871967",
     "exception": false,
     "start_time": "2020-11-24T13:05:02.853811",
     "status": "completed"
    },
    "tags": []
   },
   "source": [
    "# Introduction\n",
    "\n",
    "In these exercises we'll apply groupwise analysis to our dataset.\n",
    "\n",
    "Run the code cell below to load the data before running the exercises."
   ]
  },
  {
   "cell_type": "code",
   "execution_count": 1,
   "metadata": {
    "execution": {
     "iopub.execute_input": "2020-11-24T13:05:02.918529Z",
     "iopub.status.busy": "2020-11-24T13:05:02.917720Z",
     "iopub.status.idle": "2020-11-24T13:05:05.354360Z",
     "shell.execute_reply": "2020-11-24T13:05:05.355192Z"
    },
    "papermill": {
     "duration": 2.465378,
     "end_time": "2020-11-24T13:05:05.355436",
     "exception": false,
     "start_time": "2020-11-24T13:05:02.890058",
     "status": "completed"
    },
    "tags": []
   },
   "outputs": [
    {
     "name": "stdout",
     "output_type": "stream",
     "text": [
      "Setup complete.\n"
     ]
    }
   ],
   "source": [
    "import pandas as pd\n",
    "\n",
    "reviews = pd.read_csv(\"../input/wine-reviews/winemag-data-130k-v2.csv\", index_col=0)\n",
    "#pd.set_option(\"display.max_rows\", 5)\n",
    "\n",
    "from learntools.core import binder; binder.bind(globals())\n",
    "from learntools.pandas.grouping_and_sorting import *\n",
    "print(\"Setup complete.\")"
   ]
  },
  {
   "cell_type": "markdown",
   "metadata": {
    "papermill": {
     "duration": 0.017999,
     "end_time": "2020-11-24T13:05:05.393058",
     "exception": false,
     "start_time": "2020-11-24T13:05:05.375059",
     "status": "completed"
    },
    "tags": []
   },
   "source": [
    "# Exercises"
   ]
  },
  {
   "cell_type": "markdown",
   "metadata": {
    "papermill": {
     "duration": 0.017981,
     "end_time": "2020-11-24T13:05:05.429463",
     "exception": false,
     "start_time": "2020-11-24T13:05:05.411482",
     "status": "completed"
    },
    "tags": []
   },
   "source": [
    "## 1.\n",
    "Who are the most common wine reviewers in the dataset? Create a `Series` whose index is the `taster_twitter_handle` category from the dataset, and whose values count how many reviews each person wrote."
   ]
  },
  {
   "cell_type": "code",
   "execution_count": 2,
   "metadata": {
    "execution": {
     "iopub.execute_input": "2020-11-24T13:05:05.500062Z",
     "iopub.status.busy": "2020-11-24T13:05:05.499158Z",
     "iopub.status.idle": "2020-11-24T13:05:05.514821Z",
     "shell.execute_reply": "2020-11-24T13:05:05.514131Z"
    },
    "papermill": {
     "duration": 0.067172,
     "end_time": "2020-11-24T13:05:05.514960",
     "exception": false,
     "start_time": "2020-11-24T13:05:05.447788",
     "status": "completed"
    },
    "tags": []
   },
   "outputs": [
    {
     "data": {
      "application/javascript": [
       "parent.postMessage({\"jupyterEvent\": \"custom.exercise_interaction\", \"data\": {\"outcomeType\": 1, \"valueTowardsCompletion\": 0.16666666666666666, \"interactionType\": 1, \"questionType\": 1, \"questionId\": \"1_ReviewsWritten\", \"learnToolsVersion\": \"0.3.4\", \"failureMessage\": \"\", \"exceptionClass\": \"\", \"trace\": \"\"}}, \"*\")"
      ],
      "text/plain": [
       "<IPython.core.display.Javascript object>"
      ]
     },
     "metadata": {},
     "output_type": "display_data"
    },
    {
     "data": {
      "text/markdown": [
       "<span style=\"color:#33cc33\">Correct:</span> \n",
       "\n",
       "\n",
       "```python\n",
       "reviews_written = reviews.groupby('taster_twitter_handle').size()\n",
       "```\n",
       "or\n",
       "```python\n",
       "reviews_written = reviews.groupby('taster_twitter_handle').taster_twitter_handle.count()\n",
       "```\n"
      ],
      "text/plain": [
       "Correct: \n",
       "\n",
       "\n",
       "```python\n",
       "reviews_written = reviews.groupby('taster_twitter_handle').size()\n",
       "```\n",
       "or\n",
       "```python\n",
       "reviews_written = reviews.groupby('taster_twitter_handle').taster_twitter_handle.count()\n",
       "```"
      ]
     },
     "metadata": {},
     "output_type": "display_data"
    }
   ],
   "source": [
    "# Your code here\n",
    "reviews_written = reviews.groupby('taster_twitter_handle').size()\n",
    "\n",
    "# Check your answer\n",
    "q1.check()"
   ]
  },
  {
   "cell_type": "code",
   "execution_count": 3,
   "metadata": {
    "execution": {
     "iopub.execute_input": "2020-11-24T13:05:05.573663Z",
     "iopub.status.busy": "2020-11-24T13:05:05.572466Z",
     "iopub.status.idle": "2020-11-24T13:05:05.576725Z",
     "shell.execute_reply": "2020-11-24T13:05:05.575539Z"
    },
    "papermill": {
     "duration": 0.036513,
     "end_time": "2020-11-24T13:05:05.576920",
     "exception": false,
     "start_time": "2020-11-24T13:05:05.540407",
     "status": "completed"
    },
    "tags": []
   },
   "outputs": [],
   "source": [
    "#q1.hint()\n",
    "#q1.solution()"
   ]
  },
  {
   "cell_type": "markdown",
   "metadata": {
    "papermill": {
     "duration": 0.021356,
     "end_time": "2020-11-24T13:05:05.625991",
     "exception": false,
     "start_time": "2020-11-24T13:05:05.604635",
     "status": "completed"
    },
    "tags": []
   },
   "source": [
    "## 2.\n",
    "What is the best wine I can buy for a given amount of money? Create a `Series` whose index is wine prices and whose values is the maximum number of points a wine costing that much was given in a review. Sort the values by price, ascending (so that `4.0` dollars is at the top and `3300.0` dollars is at the bottom)."
   ]
  },
  {
   "cell_type": "code",
   "execution_count": 4,
   "metadata": {
    "execution": {
     "iopub.execute_input": "2020-11-24T13:05:05.673228Z",
     "iopub.status.busy": "2020-11-24T13:05:05.672173Z",
     "iopub.status.idle": "2020-11-24T13:05:05.686624Z",
     "shell.execute_reply": "2020-11-24T13:05:05.685996Z"
    },
    "papermill": {
     "duration": 0.040534,
     "end_time": "2020-11-24T13:05:05.686760",
     "exception": false,
     "start_time": "2020-11-24T13:05:05.646226",
     "status": "completed"
    },
    "tags": []
   },
   "outputs": [
    {
     "data": {
      "application/javascript": [
       "parent.postMessage({\"jupyterEvent\": \"custom.exercise_interaction\", \"data\": {\"outcomeType\": 1, \"valueTowardsCompletion\": 0.16666666666666666, \"interactionType\": 1, \"questionType\": 1, \"questionId\": \"2_BestRatingPerPrice\", \"learnToolsVersion\": \"0.3.4\", \"failureMessage\": \"\", \"exceptionClass\": \"\", \"trace\": \"\"}}, \"*\")"
      ],
      "text/plain": [
       "<IPython.core.display.Javascript object>"
      ]
     },
     "metadata": {},
     "output_type": "display_data"
    },
    {
     "data": {
      "text/markdown": [
       "<span style=\"color:#33cc33\">Correct</span>"
      ],
      "text/plain": [
       "Correct"
      ]
     },
     "metadata": {},
     "output_type": "display_data"
    }
   ],
   "source": [
    "best_rating_per_price = reviews.groupby('price')['points'].max().sort_index()\n",
    "\n",
    "# Check your answer\n",
    "q2.check()"
   ]
  },
  {
   "cell_type": "code",
   "execution_count": 5,
   "metadata": {
    "execution": {
     "iopub.execute_input": "2020-11-24T13:05:05.734892Z",
     "iopub.status.busy": "2020-11-24T13:05:05.734106Z",
     "iopub.status.idle": "2020-11-24T13:05:05.737455Z",
     "shell.execute_reply": "2020-11-24T13:05:05.736774Z"
    },
    "papermill": {
     "duration": 0.029134,
     "end_time": "2020-11-24T13:05:05.737587",
     "exception": false,
     "start_time": "2020-11-24T13:05:05.708453",
     "status": "completed"
    },
    "tags": []
   },
   "outputs": [],
   "source": [
    "#q2.hint()\n",
    "#q2.solution()"
   ]
  },
  {
   "cell_type": "markdown",
   "metadata": {
    "papermill": {
     "duration": 0.021564,
     "end_time": "2020-11-24T13:05:05.781137",
     "exception": false,
     "start_time": "2020-11-24T13:05:05.759573",
     "status": "completed"
    },
    "tags": []
   },
   "source": [
    "## 3.\n",
    "What are the minimum and maximum prices for each `variety` of wine? Create a `DataFrame` whose index is the `variety` category from the dataset and whose values are the `min` and `max` values thereof."
   ]
  },
  {
   "cell_type": "code",
   "execution_count": 6,
   "metadata": {
    "execution": {
     "iopub.execute_input": "2020-11-24T13:05:05.831379Z",
     "iopub.status.busy": "2020-11-24T13:05:05.830556Z",
     "iopub.status.idle": "2020-11-24T13:05:05.870699Z",
     "shell.execute_reply": "2020-11-24T13:05:05.870034Z"
    },
    "papermill": {
     "duration": 0.067783,
     "end_time": "2020-11-24T13:05:05.870844",
     "exception": false,
     "start_time": "2020-11-24T13:05:05.803061",
     "status": "completed"
    },
    "tags": []
   },
   "outputs": [
    {
     "data": {
      "application/javascript": [
       "parent.postMessage({\"jupyterEvent\": \"custom.exercise_interaction\", \"data\": {\"outcomeType\": 1, \"valueTowardsCompletion\": 0.16666666666666666, \"interactionType\": 1, \"questionType\": 1, \"questionId\": \"3_PriceExtremes\", \"learnToolsVersion\": \"0.3.4\", \"failureMessage\": \"\", \"exceptionClass\": \"\", \"trace\": \"\"}}, \"*\")"
      ],
      "text/plain": [
       "<IPython.core.display.Javascript object>"
      ]
     },
     "metadata": {},
     "output_type": "display_data"
    },
    {
     "data": {
      "text/markdown": [
       "<span style=\"color:#33cc33\">Correct</span>"
      ],
      "text/plain": [
       "Correct"
      ]
     },
     "metadata": {},
     "output_type": "display_data"
    }
   ],
   "source": [
    "price_extremes = reviews.groupby('variety').price.agg([min, max])\n",
    "\n",
    "# Check your answer\n",
    "q3.check()"
   ]
  },
  {
   "cell_type": "code",
   "execution_count": 7,
   "metadata": {
    "execution": {
     "iopub.execute_input": "2020-11-24T13:05:05.927751Z",
     "iopub.status.busy": "2020-11-24T13:05:05.926645Z",
     "iopub.status.idle": "2020-11-24T13:05:05.929655Z",
     "shell.execute_reply": "2020-11-24T13:05:05.930186Z"
    },
    "papermill": {
     "duration": 0.031717,
     "end_time": "2020-11-24T13:05:05.930388",
     "exception": false,
     "start_time": "2020-11-24T13:05:05.898671",
     "status": "completed"
    },
    "tags": []
   },
   "outputs": [],
   "source": [
    "#q3.hint()\n",
    "#q3.solution()"
   ]
  },
  {
   "cell_type": "markdown",
   "metadata": {
    "papermill": {
     "duration": 0.023462,
     "end_time": "2020-11-24T13:05:05.977814",
     "exception": false,
     "start_time": "2020-11-24T13:05:05.954352",
     "status": "completed"
    },
    "tags": []
   },
   "source": [
    "## 4.\n",
    "What are the most expensive wine varieties? Create a variable `sorted_varieties` containing a copy of the dataframe from the previous question where varieties are sorted in descending order based on minimum price, then on maximum price (to break ties)."
   ]
  },
  {
   "cell_type": "code",
   "execution_count": 8,
   "metadata": {
    "execution": {
     "iopub.execute_input": "2020-11-24T13:05:06.032355Z",
     "iopub.status.busy": "2020-11-24T13:05:06.031229Z",
     "iopub.status.idle": "2020-11-24T13:05:06.040616Z",
     "shell.execute_reply": "2020-11-24T13:05:06.039824Z"
    },
    "papermill": {
     "duration": 0.039444,
     "end_time": "2020-11-24T13:05:06.040753",
     "exception": false,
     "start_time": "2020-11-24T13:05:06.001309",
     "status": "completed"
    },
    "tags": []
   },
   "outputs": [
    {
     "data": {
      "application/javascript": [
       "parent.postMessage({\"jupyterEvent\": \"custom.exercise_interaction\", \"data\": {\"outcomeType\": 1, \"valueTowardsCompletion\": 0.16666666666666666, \"interactionType\": 1, \"questionType\": 1, \"questionId\": \"4_SortedVarieties\", \"learnToolsVersion\": \"0.3.4\", \"failureMessage\": \"\", \"exceptionClass\": \"\", \"trace\": \"\"}}, \"*\")"
      ],
      "text/plain": [
       "<IPython.core.display.Javascript object>"
      ]
     },
     "metadata": {},
     "output_type": "display_data"
    },
    {
     "data": {
      "text/markdown": [
       "<span style=\"color:#33cc33\">Correct</span>"
      ],
      "text/plain": [
       "Correct"
      ]
     },
     "metadata": {},
     "output_type": "display_data"
    }
   ],
   "source": [
    "sorted_varieties = price_extremes.sort_values(by=['min', 'max'], ascending=False)\n",
    "\n",
    "# Check your answer\n",
    "q4.check()"
   ]
  },
  {
   "cell_type": "code",
   "execution_count": 9,
   "metadata": {
    "execution": {
     "iopub.execute_input": "2020-11-24T13:05:06.095693Z",
     "iopub.status.busy": "2020-11-24T13:05:06.094925Z",
     "iopub.status.idle": "2020-11-24T13:05:06.098186Z",
     "shell.execute_reply": "2020-11-24T13:05:06.097587Z"
    },
    "papermill": {
     "duration": 0.032554,
     "end_time": "2020-11-24T13:05:06.098336",
     "exception": false,
     "start_time": "2020-11-24T13:05:06.065782",
     "status": "completed"
    },
    "tags": []
   },
   "outputs": [],
   "source": [
    "#q4.hint()\n",
    "#q4.solution()"
   ]
  },
  {
   "cell_type": "markdown",
   "metadata": {
    "papermill": {
     "duration": 0.025732,
     "end_time": "2020-11-24T13:05:06.149357",
     "exception": false,
     "start_time": "2020-11-24T13:05:06.123625",
     "status": "completed"
    },
    "tags": []
   },
   "source": [
    "## 5.\n",
    "Create a `Series` whose index is reviewers and whose values is the average review score given out by that reviewer. Hint: you will need the `taster_name` and `points` columns."
   ]
  },
  {
   "cell_type": "code",
   "execution_count": 10,
   "metadata": {
    "execution": {
     "iopub.execute_input": "2020-11-24T13:05:06.224610Z",
     "iopub.status.busy": "2020-11-24T13:05:06.223690Z",
     "iopub.status.idle": "2020-11-24T13:05:06.234343Z",
     "shell.execute_reply": "2020-11-24T13:05:06.233698Z"
    },
    "papermill": {
     "duration": 0.060061,
     "end_time": "2020-11-24T13:05:06.234470",
     "exception": false,
     "start_time": "2020-11-24T13:05:06.174409",
     "status": "completed"
    },
    "tags": []
   },
   "outputs": [
    {
     "data": {
      "application/javascript": [
       "parent.postMessage({\"jupyterEvent\": \"custom.exercise_interaction\", \"data\": {\"outcomeType\": 1, \"valueTowardsCompletion\": 0.16666666666666666, \"interactionType\": 1, \"questionType\": 1, \"questionId\": \"5_ReviewerMeanRatings\", \"learnToolsVersion\": \"0.3.4\", \"failureMessage\": \"\", \"exceptionClass\": \"\", \"trace\": \"\"}}, \"*\")"
      ],
      "text/plain": [
       "<IPython.core.display.Javascript object>"
      ]
     },
     "metadata": {},
     "output_type": "display_data"
    },
    {
     "data": {
      "text/markdown": [
       "<span style=\"color:#33cc33\">Correct</span>"
      ],
      "text/plain": [
       "Correct"
      ]
     },
     "metadata": {},
     "output_type": "display_data"
    }
   ],
   "source": [
    "reviewer_mean_ratings = reviews.groupby('taster_name').points.mean()\n",
    "\n",
    "# Check your answer\n",
    "q5.check()"
   ]
  },
  {
   "cell_type": "code",
   "execution_count": 11,
   "metadata": {
    "execution": {
     "iopub.execute_input": "2020-11-24T13:05:06.293155Z",
     "iopub.status.busy": "2020-11-24T13:05:06.292161Z",
     "iopub.status.idle": "2020-11-24T13:05:06.295326Z",
     "shell.execute_reply": "2020-11-24T13:05:06.294691Z"
    },
    "papermill": {
     "duration": 0.034348,
     "end_time": "2020-11-24T13:05:06.295457",
     "exception": false,
     "start_time": "2020-11-24T13:05:06.261109",
     "status": "completed"
    },
    "tags": []
   },
   "outputs": [],
   "source": [
    "#q5.hint()\n",
    "#q5.solution()"
   ]
  },
  {
   "cell_type": "markdown",
   "metadata": {
    "papermill": {
     "duration": 0.026389,
     "end_time": "2020-11-24T13:05:06.348624",
     "exception": false,
     "start_time": "2020-11-24T13:05:06.322235",
     "status": "completed"
    },
    "tags": []
   },
   "source": [
    "Are there significant differences in the average scores assigned by the various reviewers? Run the cell below to use the `describe()` method to see a summary of the range of values."
   ]
  },
  {
   "cell_type": "code",
   "execution_count": 12,
   "metadata": {
    "execution": {
     "iopub.execute_input": "2020-11-24T13:05:06.408958Z",
     "iopub.status.busy": "2020-11-24T13:05:06.408114Z",
     "iopub.status.idle": "2020-11-24T13:05:06.417631Z",
     "shell.execute_reply": "2020-11-24T13:05:06.418248Z"
    },
    "papermill": {
     "duration": 0.043037,
     "end_time": "2020-11-24T13:05:06.418424",
     "exception": false,
     "start_time": "2020-11-24T13:05:06.375387",
     "status": "completed"
    },
    "tags": []
   },
   "outputs": [
    {
     "data": {
      "text/plain": [
       "count    19.000000\n",
       "mean     88.233026\n",
       "std       1.243610\n",
       "min      85.855422\n",
       "25%      87.323501\n",
       "50%      88.536235\n",
       "75%      88.975256\n",
       "max      90.562551\n",
       "Name: points, dtype: float64"
      ]
     },
     "execution_count": 12,
     "metadata": {},
     "output_type": "execute_result"
    }
   ],
   "source": [
    "reviewer_mean_ratings.describe()"
   ]
  },
  {
   "cell_type": "markdown",
   "metadata": {
    "papermill": {
     "duration": 0.026802,
     "end_time": "2020-11-24T13:05:06.472544",
     "exception": false,
     "start_time": "2020-11-24T13:05:06.445742",
     "status": "completed"
    },
    "tags": []
   },
   "source": [
    "## 6.\n",
    "What combination of countries and varieties are most common? Create a `Series` whose index is a `MultiIndex`of `{country, variety}` pairs. For example, a pinot noir produced in the US should map to `{\"US\", \"Pinot Noir\"}`. Sort the values in the `Series` in descending order based on wine count."
   ]
  },
  {
   "cell_type": "code",
   "execution_count": 13,
   "metadata": {
    "execution": {
     "iopub.execute_input": "2020-11-24T13:05:06.551934Z",
     "iopub.status.busy": "2020-11-24T13:05:06.551118Z",
     "iopub.status.idle": "2020-11-24T13:05:06.586883Z",
     "shell.execute_reply": "2020-11-24T13:05:06.587466Z"
    },
    "papermill": {
     "duration": 0.087859,
     "end_time": "2020-11-24T13:05:06.587634",
     "exception": false,
     "start_time": "2020-11-24T13:05:06.499775",
     "status": "completed"
    },
    "tags": []
   },
   "outputs": [
    {
     "data": {
      "application/javascript": [
       "parent.postMessage({\"jupyterEvent\": \"custom.exercise_interaction\", \"data\": {\"outcomeType\": 1, \"valueTowardsCompletion\": 0.16666666666666666, \"interactionType\": 1, \"questionType\": 1, \"questionId\": \"6_GroupbyCountryVariety\", \"learnToolsVersion\": \"0.3.4\", \"failureMessage\": \"\", \"exceptionClass\": \"\", \"trace\": \"\"}}, \"*\")"
      ],
      "text/plain": [
       "<IPython.core.display.Javascript object>"
      ]
     },
     "metadata": {},
     "output_type": "display_data"
    },
    {
     "data": {
      "text/markdown": [
       "<span style=\"color:#33cc33\">Correct</span>"
      ],
      "text/plain": [
       "Correct"
      ]
     },
     "metadata": {},
     "output_type": "display_data"
    }
   ],
   "source": [
    "country_variety_counts = reviews.groupby(['country', 'variety']).size().sort_values(ascending=False)\n",
    "\n",
    "# Check your answer\n",
    "q6.check()"
   ]
  },
  {
   "cell_type": "code",
   "execution_count": 14,
   "metadata": {
    "execution": {
     "iopub.execute_input": "2020-11-24T13:05:06.650112Z",
     "iopub.status.busy": "2020-11-24T13:05:06.649193Z",
     "iopub.status.idle": "2020-11-24T13:05:06.652500Z",
     "shell.execute_reply": "2020-11-24T13:05:06.651849Z"
    },
    "papermill": {
     "duration": 0.036271,
     "end_time": "2020-11-24T13:05:06.652630",
     "exception": false,
     "start_time": "2020-11-24T13:05:06.616359",
     "status": "completed"
    },
    "tags": []
   },
   "outputs": [],
   "source": [
    "#q6.hint()\n",
    "#q6.solution()"
   ]
  },
  {
   "cell_type": "markdown",
   "metadata": {
    "papermill": {
     "duration": 0.028608,
     "end_time": "2020-11-24T13:05:06.710919",
     "exception": false,
     "start_time": "2020-11-24T13:05:06.682311",
     "status": "completed"
    },
    "tags": []
   },
   "source": [
    "# Keep going\n",
    "\n",
    "Move on to the [**data types and missing data**](https://www.kaggle.com/residentmario/data-types-and-missing-values)."
   ]
  },
  {
   "cell_type": "markdown",
   "metadata": {
    "papermill": {
     "duration": 0.028318,
     "end_time": "2020-11-24T13:05:06.767953",
     "exception": false,
     "start_time": "2020-11-24T13:05:06.739635",
     "status": "completed"
    },
    "tags": []
   },
   "source": [
    "---\n",
    "\n",
    "\n",
    "\n",
    "\n",
    "*Have questions or comments? Visit the [Learn Discussion forum](https://www.kaggle.com/learn-forum/161299) to chat with other Learners.*"
   ]
  }
 ],
 "metadata": {
  "kernelspec": {
   "display_name": "Python 3",
   "language": "python",
   "name": "python3"
  },
  "language_info": {
   "codemirror_mode": {
    "name": "ipython",
    "version": 3
   },
   "file_extension": ".py",
   "mimetype": "text/x-python",
   "name": "python",
   "nbconvert_exporter": "python",
   "pygments_lexer": "ipython3",
   "version": "3.7.6"
  },
  "papermill": {
   "duration": 9.994976,
   "end_time": "2020-11-24T13:05:07.842963",
   "environment_variables": {},
   "exception": null,
   "input_path": "__notebook__.ipynb",
   "output_path": "__notebook__.ipynb",
   "parameters": {},
   "start_time": "2020-11-24T13:04:57.847987",
   "version": "2.1.0"
  }
 },
 "nbformat": 4,
 "nbformat_minor": 4
}
