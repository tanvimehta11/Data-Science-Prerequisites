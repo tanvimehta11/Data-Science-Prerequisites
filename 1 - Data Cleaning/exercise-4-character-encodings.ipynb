{
 "cells": [
  {
   "cell_type": "markdown",
   "metadata": {
    "papermill": {
     "duration": 0.013427,
     "end_time": "2020-11-27T19:18:08.401620",
     "exception": false,
     "start_time": "2020-11-27T19:18:08.388193",
     "status": "completed"
    },
    "tags": []
   },
   "source": [
    "**This notebook is an exercise in the [Data Cleaning](https://www.kaggle.com/learn/data-cleaning) course.  You can reference the tutorial at [this link](https://www.kaggle.com/alexisbcook/character-encodings).**\n",
    "\n",
    "---\n"
   ]
  },
  {
   "cell_type": "markdown",
   "metadata": {
    "papermill": {
     "duration": 0.009376,
     "end_time": "2020-11-27T19:18:08.420914",
     "exception": false,
     "start_time": "2020-11-27T19:18:08.411538",
     "status": "completed"
    },
    "tags": []
   },
   "source": [
    "In this exercise, you'll apply what you learned in the **Character encodings** tutorial.\n",
    "\n",
    "# Setup\n",
    "\n",
    "The questions below will give you feedback on your work. Run the following cell to set up the feedback system."
   ]
  },
  {
   "cell_type": "code",
   "execution_count": 1,
   "metadata": {
    "execution": {
     "iopub.execute_input": "2020-11-27T19:18:08.447031Z",
     "iopub.status.busy": "2020-11-27T19:18:08.446239Z",
     "iopub.status.idle": "2020-11-27T19:18:08.551293Z",
     "shell.execute_reply": "2020-11-27T19:18:08.550633Z"
    },
    "papermill": {
     "duration": 0.120403,
     "end_time": "2020-11-27T19:18:08.551423",
     "exception": false,
     "start_time": "2020-11-27T19:18:08.431020",
     "status": "completed"
    },
    "tags": []
   },
   "outputs": [
    {
     "name": "stdout",
     "output_type": "stream",
     "text": [
      "Setup Complete\n"
     ]
    }
   ],
   "source": [
    "from learntools.core import binder\n",
    "binder.bind(globals())\n",
    "from learntools.data_cleaning.ex4 import *\n",
    "print(\"Setup Complete\")"
   ]
  },
  {
   "cell_type": "markdown",
   "metadata": {
    "papermill": {
     "duration": 0.010742,
     "end_time": "2020-11-27T19:18:08.573496",
     "exception": false,
     "start_time": "2020-11-27T19:18:08.562754",
     "status": "completed"
    },
    "tags": []
   },
   "source": [
    "# Get our environment set up\n",
    "\n",
    "The first thing we'll need to do is load in the libraries we'll be using."
   ]
  },
  {
   "cell_type": "code",
   "execution_count": 2,
   "metadata": {
    "execution": {
     "iopub.execute_input": "2020-11-27T19:18:08.601905Z",
     "iopub.status.busy": "2020-11-27T19:18:08.600834Z",
     "iopub.status.idle": "2020-11-27T19:18:08.603773Z",
     "shell.execute_reply": "2020-11-27T19:18:08.603161Z"
    },
    "papermill": {
     "duration": 0.019266,
     "end_time": "2020-11-27T19:18:08.603882",
     "exception": false,
     "start_time": "2020-11-27T19:18:08.584616",
     "status": "completed"
    },
    "tags": []
   },
   "outputs": [],
   "source": [
    "# modules we'll use\n",
    "import pandas as pd\n",
    "import numpy as np\n",
    "\n",
    "# helpful character encoding module\n",
    "import chardet\n",
    "\n",
    "# set seed for reproducibility\n",
    "np.random.seed(0)"
   ]
  },
  {
   "cell_type": "markdown",
   "metadata": {
    "papermill": {
     "duration": 0.010132,
     "end_time": "2020-11-27T19:18:08.624420",
     "exception": false,
     "start_time": "2020-11-27T19:18:08.614288",
     "status": "completed"
    },
    "tags": []
   },
   "source": [
    "# 1) What are encodings?\n",
    "\n",
    "You're working with a dataset composed of bytes.  Run the code cell below to print a sample entry."
   ]
  },
  {
   "cell_type": "code",
   "execution_count": 3,
   "metadata": {
    "execution": {
     "iopub.execute_input": "2020-11-27T19:18:08.651866Z",
     "iopub.status.busy": "2020-11-27T19:18:08.650855Z",
     "iopub.status.idle": "2020-11-27T19:18:08.655257Z",
     "shell.execute_reply": "2020-11-27T19:18:08.654730Z"
    },
    "papermill": {
     "duration": 0.019814,
     "end_time": "2020-11-27T19:18:08.655391",
     "exception": false,
     "start_time": "2020-11-27T19:18:08.635577",
     "status": "completed"
    },
    "tags": []
   },
   "outputs": [
    {
     "name": "stdout",
     "output_type": "stream",
     "text": [
      "b'\\xa7A\\xa6n'\n",
      "data type: <class 'bytes'>\n"
     ]
    }
   ],
   "source": [
    "sample_entry = b'\\xa7A\\xa6n'\n",
    "print(sample_entry)\n",
    "print('data type:', type(sample_entry))"
   ]
  },
  {
   "cell_type": "markdown",
   "metadata": {
    "papermill": {
     "duration": 0.010563,
     "end_time": "2020-11-27T19:18:08.676641",
     "exception": false,
     "start_time": "2020-11-27T19:18:08.666078",
     "status": "completed"
    },
    "tags": []
   },
   "source": [
    "You notice that it doesn't use the standard UTF-8 encoding. \n",
    "\n",
    "Use the next code cell to create a variable `new_entry` that changes the encoding from `\"big5-tw\"` to `\"utf-8\"`.  `new_entry` should have the bytes datatype."
   ]
  },
  {
   "cell_type": "code",
   "execution_count": 4,
   "metadata": {
    "execution": {
     "iopub.execute_input": "2020-11-27T19:18:08.706907Z",
     "iopub.status.busy": "2020-11-27T19:18:08.705814Z",
     "iopub.status.idle": "2020-11-27T19:18:08.712143Z",
     "shell.execute_reply": "2020-11-27T19:18:08.712634Z"
    },
    "papermill": {
     "duration": 0.024845,
     "end_time": "2020-11-27T19:18:08.712919",
     "exception": false,
     "start_time": "2020-11-27T19:18:08.688074",
     "status": "completed"
    },
    "tags": []
   },
   "outputs": [
    {
     "data": {
      "application/javascript": [
       "parent.postMessage({\"jupyterEvent\": \"custom.exercise_interaction\", \"data\": {\"outcomeType\": 1, \"valueTowardsCompletion\": 0.3333333333333333, \"interactionType\": 1, \"questionType\": 1, \"questionId\": \"1_EncodingsIntro\", \"learnToolsVersion\": \"0.3.4\", \"failureMessage\": \"\", \"exceptionClass\": \"\", \"trace\": \"\"}}, \"*\")"
      ],
      "text/plain": [
       "<IPython.core.display.Javascript object>"
      ]
     },
     "metadata": {},
     "output_type": "display_data"
    },
    {
     "data": {
      "text/markdown": [
       "<span style=\"color:#33cc33\">Correct</span>"
      ],
      "text/plain": [
       "Correct"
      ]
     },
     "metadata": {},
     "output_type": "display_data"
    }
   ],
   "source": [
    "before = sample_entry.decode(\"big5-tw\")\n",
    "new_entry = before.encode()\n",
    "\n",
    "# Check your answer\n",
    "q1.check()"
   ]
  },
  {
   "cell_type": "code",
   "execution_count": 5,
   "metadata": {
    "execution": {
     "iopub.execute_input": "2020-11-27T19:18:08.742337Z",
     "iopub.status.busy": "2020-11-27T19:18:08.741570Z",
     "iopub.status.idle": "2020-11-27T19:18:08.744610Z",
     "shell.execute_reply": "2020-11-27T19:18:08.743913Z"
    },
    "papermill": {
     "duration": 0.019016,
     "end_time": "2020-11-27T19:18:08.744727",
     "exception": false,
     "start_time": "2020-11-27T19:18:08.725711",
     "status": "completed"
    },
    "tags": []
   },
   "outputs": [],
   "source": [
    "# Lines below will give you a hint or solution code\n",
    "#q1.hint()\n",
    "#q1.solution()"
   ]
  },
  {
   "cell_type": "markdown",
   "metadata": {
    "papermill": {
     "duration": 0.011684,
     "end_time": "2020-11-27T19:18:08.769236",
     "exception": false,
     "start_time": "2020-11-27T19:18:08.757552",
     "status": "completed"
    },
    "tags": []
   },
   "source": [
    "# 2) Reading in files with encoding problems\n",
    "\n",
    "Use the code cell below to read in this file at path `\"../input/fatal-police-shootings-in-the-us/PoliceKillingsUS.csv\"`.  \n",
    "\n",
    "Figure out what the correct encoding should be and read in the file to a DataFrame `police_killings`."
   ]
  },
  {
   "cell_type": "code",
   "execution_count": 6,
   "metadata": {
    "execution": {
     "iopub.execute_input": "2020-11-27T19:18:08.798169Z",
     "iopub.status.busy": "2020-11-27T19:18:08.797489Z",
     "iopub.status.idle": "2020-11-27T19:18:08.822990Z",
     "shell.execute_reply": "2020-11-27T19:18:08.822386Z"
    },
    "papermill": {
     "duration": 0.041928,
     "end_time": "2020-11-27T19:18:08.823116",
     "exception": false,
     "start_time": "2020-11-27T19:18:08.781188",
     "status": "completed"
    },
    "tags": []
   },
   "outputs": [
    {
     "data": {
      "application/javascript": [
       "parent.postMessage({\"jupyterEvent\": \"custom.exercise_interaction\", \"data\": {\"outcomeType\": 1, \"valueTowardsCompletion\": 0.3333333333333333, \"interactionType\": 1, \"questionType\": 1, \"questionId\": \"2_ReadIn\", \"learnToolsVersion\": \"0.3.4\", \"failureMessage\": \"\", \"exceptionClass\": \"\", \"trace\": \"\"}}, \"*\")"
      ],
      "text/plain": [
       "<IPython.core.display.Javascript object>"
      ]
     },
     "metadata": {},
     "output_type": "display_data"
    },
    {
     "data": {
      "text/markdown": [
       "<span style=\"color:#33cc33\">Correct</span>"
      ],
      "text/plain": [
       "Correct"
      ]
     },
     "metadata": {},
     "output_type": "display_data"
    }
   ],
   "source": [
    "# TODO: Load in the DataFrame correctly.\n",
    "police_killings = pd.read_csv(\"../input/fatal-police-shootings-in-the-us/PoliceKillingsUS.csv\", encoding='Windows-1252')\n",
    "\n",
    "# Check your answer\n",
    "q2.check()"
   ]
  },
  {
   "cell_type": "markdown",
   "metadata": {
    "papermill": {
     "duration": 0.013015,
     "end_time": "2020-11-27T19:18:08.849144",
     "exception": false,
     "start_time": "2020-11-27T19:18:08.836129",
     "status": "completed"
    },
    "tags": []
   },
   "source": [
    "Feel free to use any additional code cells for supplemental work.  To get credit for finishing this question, you'll need to run `q2.check()` and get a result of **Correct**."
   ]
  },
  {
   "cell_type": "code",
   "execution_count": 7,
   "metadata": {
    "execution": {
     "iopub.execute_input": "2020-11-27T19:18:08.881445Z",
     "iopub.status.busy": "2020-11-27T19:18:08.880327Z",
     "iopub.status.idle": "2020-11-27T19:18:08.883825Z",
     "shell.execute_reply": "2020-11-27T19:18:08.883194Z"
    },
    "papermill": {
     "duration": 0.021259,
     "end_time": "2020-11-27T19:18:08.883972",
     "exception": false,
     "start_time": "2020-11-27T19:18:08.862713",
     "status": "completed"
    },
    "tags": []
   },
   "outputs": [],
   "source": [
    "# (Optional) Use this code cell for any additional work."
   ]
  },
  {
   "cell_type": "code",
   "execution_count": 8,
   "metadata": {
    "execution": {
     "iopub.execute_input": "2020-11-27T19:18:08.918732Z",
     "iopub.status.busy": "2020-11-27T19:18:08.917863Z",
     "iopub.status.idle": "2020-11-27T19:18:08.920642Z",
     "shell.execute_reply": "2020-11-27T19:18:08.919991Z"
    },
    "papermill": {
     "duration": 0.021527,
     "end_time": "2020-11-27T19:18:08.920755",
     "exception": false,
     "start_time": "2020-11-27T19:18:08.899228",
     "status": "completed"
    },
    "tags": []
   },
   "outputs": [],
   "source": [
    "# Lines below will give you a hint or solution code\n",
    "#q2.hint()\n",
    "#q2.solution()"
   ]
  },
  {
   "cell_type": "markdown",
   "metadata": {
    "papermill": {
     "duration": 0.013144,
     "end_time": "2020-11-27T19:18:08.947978",
     "exception": false,
     "start_time": "2020-11-27T19:18:08.934834",
     "status": "completed"
    },
    "tags": []
   },
   "source": [
    "# 3) Saving your files with UTF-8 encoding\n",
    "\n",
    "Save a version of the police killings dataset to CSV with UTF-8 encoding.  Your answer will be marked correct after saving this file.  \n",
    "\n",
    "Note: When using the `to_csv()` method, supply only the name of the file (e.g., `\"my_file.csv\"`).  This saves the file at the filepath `\"/kaggle/working/my_file.csv\"`."
   ]
  },
  {
   "cell_type": "code",
   "execution_count": 9,
   "metadata": {
    "execution": {
     "iopub.execute_input": "2020-11-27T19:18:08.979891Z",
     "iopub.status.busy": "2020-11-27T19:18:08.979214Z",
     "iopub.status.idle": "2020-11-27T19:18:09.406257Z",
     "shell.execute_reply": "2020-11-27T19:18:09.405557Z"
    },
    "papermill": {
     "duration": 0.445101,
     "end_time": "2020-11-27T19:18:09.406399",
     "exception": false,
     "start_time": "2020-11-27T19:18:08.961298",
     "status": "completed"
    },
    "tags": []
   },
   "outputs": [
    {
     "data": {
      "application/javascript": [
       "parent.postMessage({\"jupyterEvent\": \"custom.exercise_interaction\", \"data\": {\"outcomeType\": 1, \"valueTowardsCompletion\": 0.3333333333333333, \"interactionType\": 1, \"questionType\": 2, \"questionId\": \"3_SaveCSV\", \"learnToolsVersion\": \"0.3.4\", \"failureMessage\": \"\", \"exceptionClass\": \"\", \"trace\": \"\"}}, \"*\")"
      ],
      "text/plain": [
       "<IPython.core.display.Javascript object>"
      ]
     },
     "metadata": {},
     "output_type": "display_data"
    },
    {
     "data": {
      "text/markdown": [
       "<span style=\"color:#33cc33\">Correct</span>"
      ],
      "text/plain": [
       "Correct"
      ]
     },
     "metadata": {},
     "output_type": "display_data"
    }
   ],
   "source": [
    "# TODO: Save the police killings dataset to CSV\n",
    "police_killings.to_csv(\"my_file.csv\")\n",
    "\n",
    "# Check your answer\n",
    "q3.check()"
   ]
  },
  {
   "cell_type": "code",
   "execution_count": 10,
   "metadata": {
    "execution": {
     "iopub.execute_input": "2020-11-27T19:18:09.441210Z",
     "iopub.status.busy": "2020-11-27T19:18:09.440174Z",
     "iopub.status.idle": "2020-11-27T19:18:09.442875Z",
     "shell.execute_reply": "2020-11-27T19:18:09.443311Z"
    },
    "papermill": {
     "duration": 0.021782,
     "end_time": "2020-11-27T19:18:09.443480",
     "exception": false,
     "start_time": "2020-11-27T19:18:09.421698",
     "status": "completed"
    },
    "tags": []
   },
   "outputs": [],
   "source": [
    "# Lines below will give you a hint or solution code\n",
    "#q3.hint()\n",
    "#q3.solution()"
   ]
  },
  {
   "cell_type": "markdown",
   "metadata": {
    "papermill": {
     "duration": 0.014433,
     "end_time": "2020-11-27T19:18:09.472439",
     "exception": false,
     "start_time": "2020-11-27T19:18:09.458006",
     "status": "completed"
    },
    "tags": []
   },
   "source": [
    "# (Optional) More practice\n",
    "\n",
    "Check out [this dataset of files in different character encodings](https://www.kaggle.com/rtatman/character-encoding-examples). Can you read in all the files with their original encodings and them save them out as UTF-8 files?\n",
    "\n",
    "If you have a file that's in UTF-8 but has just a couple of weird-looking characters in it, you can try out the [ftfy module](https://ftfy.readthedocs.io/en/latest/#) and see if it helps. \n",
    "\n",
    "# Keep going\n",
    "\n",
    "In the final lesson, learn how to [**clean up inconsistent text entries**](https://www.kaggle.com/alexisbcook/inconsistent-data-entry) in your dataset."
   ]
  },
  {
   "cell_type": "markdown",
   "metadata": {
    "papermill": {
     "duration": 0.015469,
     "end_time": "2020-11-27T19:18:09.503965",
     "exception": false,
     "start_time": "2020-11-27T19:18:09.488496",
     "status": "completed"
    },
    "tags": []
   },
   "source": [
    "---\n",
    "\n",
    "\n",
    "\n",
    "\n",
    "*Have questions or comments? Visit the [Learn Discussion forum](https://www.kaggle.com/learn-forum/172650) to chat with other Learners.*"
   ]
  }
 ],
 "metadata": {
  "kernelspec": {
   "display_name": "Python 3",
   "language": "python",
   "name": "python3"
  },
  "language_info": {
   "codemirror_mode": {
    "name": "ipython",
    "version": 3
   },
   "file_extension": ".py",
   "mimetype": "text/x-python",
   "name": "python",
   "nbconvert_exporter": "python",
   "pygments_lexer": "ipython3",
   "version": "3.7.6"
  },
  "papermill": {
   "duration": 6.186117,
   "end_time": "2020-11-27T19:18:09.627262",
   "environment_variables": {},
   "exception": null,
   "input_path": "__notebook__.ipynb",
   "output_path": "__notebook__.ipynb",
   "parameters": {},
   "start_time": "2020-11-27T19:18:03.441145",
   "version": "2.1.0"
  }
 },
 "nbformat": 4,
 "nbformat_minor": 4
}
